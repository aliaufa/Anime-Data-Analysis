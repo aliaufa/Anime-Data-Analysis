{
 "cells": [
  {
   "attachments": {},
   "cell_type": "markdown",
   "metadata": {},
   "source": [
    "# Anime Data Analysis\n",
    "___\n",
    "___\n",
    "\n",
    "Produced Dashboard   : [Here](https://lookerstudio.google.com/embed/reporting/421ffd06-04e7-4469-9483-836482c1d900/page/2QyMD)\n",
    "\n",
    "Presentation Slides  : [Here](https://www.canva.com/design/DAFh8vWGsWc/QcN9lKDp42Tu8B3eB_kPcw/view?utm_content=DAFh8vWGsWc&utm_campaign=designshare&utm_medium=link2&utm_source=uniquelinks&utlId=h2775c50ffe)\n",
    "\n",
    "---\n",
    "---"
   ]
  },
  {
   "attachments": {},
   "cell_type": "markdown",
   "metadata": {},
   "source": [
    "# 1. Identifikasi Masalah\n",
    "\n",
    "## Latar Belakang\n",
    "Popularitas anime terus meningkat sepanjang tahun. Platform streaming Marinobar ingin memanfaatkan popularitas anime untuk meningkatkan jumlah subscribernya. Oleh karena itu sebagai Data Analyst saya diminta untuk melakukan analisis data anime untuk memberi wawasan mengenai anime sekaligus rekomendasi anime apa yang cocok untuk ditayangkan pada platform tersebut.\n",
    "\n",
    "## Problem Statement\n",
    "Menganalisis data anime untuk memberikan wawasan mengenai tren anime serta rekomendasi konten anime yang cocok untuk ditayangkan di platform, dengan tujuan meningkatkan jumlah subscriber Marinobar, dalam jangka waktu yang realistis\n",
    "\n",
    "## Poin Penjabaran\n",
    "\n",
    "1. Bagaimana trend anime dari tahun ke tahun\n",
    "2. Anime apa saja yang populer dan memiliki rating terbaik\n",
    "3. Studio apa saja yang menghasilkan anime terpopuler dan berkualitas\n",
    "4. Tema dan tag anime apa yang paling banyak\n",
    "5. Bagaimana central tendency data anime untuk tiap demografi\n",
    "6. Apakah ada perbedaan rating dari tiap demografi."
   ]
  },
  {
   "attachments": {},
   "cell_type": "markdown",
   "metadata": {},
   "source": [
    "---"
   ]
  },
  {
   "attachments": {},
   "cell_type": "markdown",
   "metadata": {},
   "source": [
    "# 2. Import Library\n",
    "\n",
    "Library yang digunakan dalam assignment ini"
   ]
  },
  {
   "cell_type": "code",
   "execution_count": 1,
   "metadata": {},
   "outputs": [],
   "source": [
    "# Import library\n",
    "import numpy as np\n",
    "import pandas as pd\n",
    "import scipy as sp\n",
    "import scipy.stats as stats\n",
    "import matplotlib.pyplot as plt\n",
    "import seaborn as sns"
   ]
  },
  {
   "attachments": {},
   "cell_type": "markdown",
   "metadata": {},
   "source": [
    "---"
   ]
  },
  {
   "attachments": {},
   "cell_type": "markdown",
   "metadata": {},
   "source": [
    "# 3. Data Loading\n",
    "\n",
    "Dataset yang digunakan pada project ini adalah dataset tentang anime dari berbagai genre secara detail yang tersedia di myanimelist. Dataset ini diunduh dari website kaggle. \n",
    "\n",
    "URL dataset : https://www.kaggle.com/datasets/pmanthan/anime-list-2022?select=anime-list+4-sept-2022+update.csv\n",
    "\n",
    "Data tersebut kemudian dimasukan sebagai DataFrame dengan `.read_csv`"
   ]
  },
  {
   "cell_type": "code",
   "execution_count": 2,
   "metadata": {},
   "outputs": [],
   "source": [
    "# Memasukan dataframe\n",
    "df = pd.read_csv('anime-list 4-sept-2022 update.csv')"
   ]
  },
  {
   "attachments": {},
   "cell_type": "markdown",
   "metadata": {},
   "source": [
    "Lima data teratas dan terbawah dapat dilihat dengan `.head()` dan `.tail()`."
   ]
  },
  {
   "cell_type": "code",
   "execution_count": 3,
   "metadata": {},
   "outputs": [
    {
     "data": {
      "text/html": [
       "<div>\n",
       "<style scoped>\n",
       "    .dataframe tbody tr th:only-of-type {\n",
       "        vertical-align: middle;\n",
       "    }\n",
       "\n",
       "    .dataframe tbody tr th {\n",
       "        vertical-align: top;\n",
       "    }\n",
       "\n",
       "    .dataframe thead th {\n",
       "        text-align: right;\n",
       "    }\n",
       "</style>\n",
       "<table border=\"1\" class=\"dataframe\">\n",
       "  <thead>\n",
       "    <tr style=\"text-align: right;\">\n",
       "      <th></th>\n",
       "      <th>Unnamed: 0</th>\n",
       "      <th>name</th>\n",
       "      <th>studio</th>\n",
       "      <th>theme</th>\n",
       "      <th>tags</th>\n",
       "      <th>source</th>\n",
       "      <th>rating</th>\n",
       "      <th>year</th>\n",
       "      <th>synopsis</th>\n",
       "      <th>demographic</th>\n",
       "      <th>status</th>\n",
       "      <th>eps</th>\n",
       "      <th>eps_avg_duration_in_min</th>\n",
       "      <th>rated_by</th>\n",
       "    </tr>\n",
       "  </thead>\n",
       "  <tbody>\n",
       "    <tr>\n",
       "      <th>0</th>\n",
       "      <td>0</td>\n",
       "      <td>Shingeki no Kyojin</td>\n",
       "      <td>Wit Studio</td>\n",
       "      <td>Gore, Military, Survival</td>\n",
       "      <td>Action, Drama</td>\n",
       "      <td>Manga</td>\n",
       "      <td>8.53</td>\n",
       "      <td>2013.0</td>\n",
       "      <td>Centuries ago, mankind was slaughtered to near...</td>\n",
       "      <td>Shounen</td>\n",
       "      <td>Finished</td>\n",
       "      <td>25.0</td>\n",
       "      <td>24.0</td>\n",
       "      <td>3.5M</td>\n",
       "    </tr>\n",
       "    <tr>\n",
       "      <th>1</th>\n",
       "      <td>1</td>\n",
       "      <td>Death Note</td>\n",
       "      <td>Madhouse</td>\n",
       "      <td>Psychological</td>\n",
       "      <td>Supernatural, Suspense</td>\n",
       "      <td>Manga</td>\n",
       "      <td>8.62</td>\n",
       "      <td>2006.0</td>\n",
       "      <td>Brutal murders, petty thefts, and senseless vi...</td>\n",
       "      <td>Shounen</td>\n",
       "      <td>Finished</td>\n",
       "      <td>37.0</td>\n",
       "      <td>23.0</td>\n",
       "      <td>3.5M</td>\n",
       "    </tr>\n",
       "    <tr>\n",
       "      <th>2</th>\n",
       "      <td>2</td>\n",
       "      <td>Fullmetal Alchemist: Brotherhood</td>\n",
       "      <td>Bones</td>\n",
       "      <td>Military</td>\n",
       "      <td>Action, Adventure, Drama, Fantasy</td>\n",
       "      <td>Manga</td>\n",
       "      <td>9.13</td>\n",
       "      <td>2009.0</td>\n",
       "      <td>After a horrific alchemy experiment goes wrong...</td>\n",
       "      <td>Shounen</td>\n",
       "      <td>Finished</td>\n",
       "      <td>64.0</td>\n",
       "      <td>24.0</td>\n",
       "      <td>3.0M</td>\n",
       "    </tr>\n",
       "    <tr>\n",
       "      <th>3</th>\n",
       "      <td>3</td>\n",
       "      <td>Boku no Hero Academia</td>\n",
       "      <td>Bones</td>\n",
       "      <td>School, Super Power</td>\n",
       "      <td>Action</td>\n",
       "      <td>Manga</td>\n",
       "      <td>7.92</td>\n",
       "      <td>2016.0</td>\n",
       "      <td>The appearance of \"quirks,\" newly discovered s...</td>\n",
       "      <td>Shounen</td>\n",
       "      <td>Finished</td>\n",
       "      <td>13.0</td>\n",
       "      <td>24.0</td>\n",
       "      <td>2.7M</td>\n",
       "    </tr>\n",
       "    <tr>\n",
       "      <th>4</th>\n",
       "      <td>4</td>\n",
       "      <td>Naruto</td>\n",
       "      <td>Pierrot</td>\n",
       "      <td>Martial Arts</td>\n",
       "      <td>Action, Adventure, Fantasy</td>\n",
       "      <td>Manga</td>\n",
       "      <td>7.97</td>\n",
       "      <td>2002.0</td>\n",
       "      <td>Moments prior to Naruto Uzumaki's birth, a hug...</td>\n",
       "      <td>Shounen</td>\n",
       "      <td>Finished</td>\n",
       "      <td>220.0</td>\n",
       "      <td>23.0</td>\n",
       "      <td>2.5M</td>\n",
       "    </tr>\n",
       "  </tbody>\n",
       "</table>\n",
       "</div>"
      ],
      "text/plain": [
       "   Unnamed: 0                              name      studio  \\\n",
       "0           0                Shingeki no Kyojin  Wit Studio   \n",
       "1           1                        Death Note    Madhouse   \n",
       "2           2  Fullmetal Alchemist: Brotherhood       Bones   \n",
       "3           3             Boku no Hero Academia       Bones   \n",
       "4           4                            Naruto     Pierrot   \n",
       "\n",
       "                      theme                               tags source  rating  \\\n",
       "0  Gore, Military, Survival                      Action, Drama  Manga    8.53   \n",
       "1             Psychological             Supernatural, Suspense  Manga    8.62   \n",
       "2                  Military  Action, Adventure, Drama, Fantasy  Manga    9.13   \n",
       "3       School, Super Power                             Action  Manga    7.92   \n",
       "4              Martial Arts         Action, Adventure, Fantasy  Manga    7.97   \n",
       "\n",
       "     year                                           synopsis demographic  \\\n",
       "0  2013.0  Centuries ago, mankind was slaughtered to near...     Shounen   \n",
       "1  2006.0  Brutal murders, petty thefts, and senseless vi...     Shounen   \n",
       "2  2009.0  After a horrific alchemy experiment goes wrong...     Shounen   \n",
       "3  2016.0  The appearance of \"quirks,\" newly discovered s...     Shounen   \n",
       "4  2002.0  Moments prior to Naruto Uzumaki's birth, a hug...     Shounen   \n",
       "\n",
       "     status    eps  eps_avg_duration_in_min rated_by  \n",
       "0  Finished   25.0                     24.0     3.5M  \n",
       "1  Finished   37.0                     23.0     3.5M  \n",
       "2  Finished   64.0                     24.0     3.0M  \n",
       "3  Finished   13.0                     24.0     2.7M  \n",
       "4  Finished  220.0                     23.0     2.5M  "
      ]
     },
     "execution_count": 3,
     "metadata": {},
     "output_type": "execute_result"
    }
   ],
   "source": [
    "# Menampilkan data teratas\n",
    "df.head()"
   ]
  },
  {
   "cell_type": "code",
   "execution_count": 4,
   "metadata": {},
   "outputs": [
    {
     "data": {
      "text/html": [
       "<div>\n",
       "<style scoped>\n",
       "    .dataframe tbody tr th:only-of-type {\n",
       "        vertical-align: middle;\n",
       "    }\n",
       "\n",
       "    .dataframe tbody tr th {\n",
       "        vertical-align: top;\n",
       "    }\n",
       "\n",
       "    .dataframe thead th {\n",
       "        text-align: right;\n",
       "    }\n",
       "</style>\n",
       "<table border=\"1\" class=\"dataframe\">\n",
       "  <thead>\n",
       "    <tr style=\"text-align: right;\">\n",
       "      <th></th>\n",
       "      <th>Unnamed: 0</th>\n",
       "      <th>name</th>\n",
       "      <th>studio</th>\n",
       "      <th>theme</th>\n",
       "      <th>tags</th>\n",
       "      <th>source</th>\n",
       "      <th>rating</th>\n",
       "      <th>year</th>\n",
       "      <th>synopsis</th>\n",
       "      <th>demographic</th>\n",
       "      <th>status</th>\n",
       "      <th>eps</th>\n",
       "      <th>eps_avg_duration_in_min</th>\n",
       "      <th>rated_by</th>\n",
       "    </tr>\n",
       "  </thead>\n",
       "  <tbody>\n",
       "    <tr>\n",
       "      <th>3163</th>\n",
       "      <td>3163</td>\n",
       "      <td>Jiutian Qi Yuan</td>\n",
       "      <td>Unknown</td>\n",
       "      <td>Kids</td>\n",
       "      <td>Adventure, Fantasy</td>\n",
       "      <td>Original</td>\n",
       "      <td>NaN</td>\n",
       "      <td>2012.0</td>\n",
       "      <td>NaN</td>\n",
       "      <td>Kids</td>\n",
       "      <td>Finished</td>\n",
       "      <td>26.0</td>\n",
       "      <td>13.0</td>\n",
       "      <td>15</td>\n",
       "    </tr>\n",
       "    <tr>\n",
       "      <th>3164</th>\n",
       "      <td>3164</td>\n",
       "      <td>Kaka He Ta De Pengyoumen</td>\n",
       "      <td>Unknown</td>\n",
       "      <td>Kids</td>\n",
       "      <td>Fantasy</td>\n",
       "      <td>Original</td>\n",
       "      <td>NaN</td>\n",
       "      <td>2010.0</td>\n",
       "      <td>NaN</td>\n",
       "      <td>Kids</td>\n",
       "      <td>Finished</td>\n",
       "      <td>104.0</td>\n",
       "      <td>10.0</td>\n",
       "      <td>15</td>\n",
       "    </tr>\n",
       "    <tr>\n",
       "      <th>3165</th>\n",
       "      <td>3165</td>\n",
       "      <td>Kangri Xiao Qibing</td>\n",
       "      <td>Unknown</td>\n",
       "      <td>Historical, Military</td>\n",
       "      <td>NaN</td>\n",
       "      <td>NaN</td>\n",
       "      <td>NaN</td>\n",
       "      <td>2006.0</td>\n",
       "      <td>NaN</td>\n",
       "      <td>Kids</td>\n",
       "      <td>Finished</td>\n",
       "      <td>26.0</td>\n",
       "      <td>12.0</td>\n",
       "      <td>15</td>\n",
       "    </tr>\n",
       "    <tr>\n",
       "      <th>3166</th>\n",
       "      <td>3166</td>\n",
       "      <td>Shenqi De Baoshi</td>\n",
       "      <td>Unknown</td>\n",
       "      <td>Anthropomorphic</td>\n",
       "      <td>Fantasy</td>\n",
       "      <td>Original</td>\n",
       "      <td>NaN</td>\n",
       "      <td>2011.0</td>\n",
       "      <td>NaN</td>\n",
       "      <td>Kids</td>\n",
       "      <td>Finished</td>\n",
       "      <td>300.0</td>\n",
       "      <td>5.0</td>\n",
       "      <td>15</td>\n",
       "    </tr>\n",
       "    <tr>\n",
       "      <th>3167</th>\n",
       "      <td>3167</td>\n",
       "      <td>Shucai Wangguo</td>\n",
       "      <td>Unknown</td>\n",
       "      <td>Anthropomorphic</td>\n",
       "      <td>Adventure, Fantasy</td>\n",
       "      <td>Original</td>\n",
       "      <td>NaN</td>\n",
       "      <td>2014.0</td>\n",
       "      <td>NaN</td>\n",
       "      <td>Kids</td>\n",
       "      <td>Finished</td>\n",
       "      <td>32.0</td>\n",
       "      <td>12.0</td>\n",
       "      <td>15</td>\n",
       "    </tr>\n",
       "  </tbody>\n",
       "</table>\n",
       "</div>"
      ],
      "text/plain": [
       "      Unnamed: 0                      name   studio                 theme  \\\n",
       "3163        3163           Jiutian Qi Yuan  Unknown                  Kids   \n",
       "3164        3164  Kaka He Ta De Pengyoumen  Unknown                  Kids   \n",
       "3165        3165        Kangri Xiao Qibing  Unknown  Historical, Military   \n",
       "3166        3166          Shenqi De Baoshi  Unknown       Anthropomorphic   \n",
       "3167        3167            Shucai Wangguo  Unknown       Anthropomorphic   \n",
       "\n",
       "                    tags    source  rating    year synopsis demographic  \\\n",
       "3163  Adventure, Fantasy  Original     NaN  2012.0      NaN        Kids   \n",
       "3164             Fantasy  Original     NaN  2010.0      NaN        Kids   \n",
       "3165                 NaN       NaN     NaN  2006.0      NaN        Kids   \n",
       "3166             Fantasy  Original     NaN  2011.0      NaN        Kids   \n",
       "3167  Adventure, Fantasy  Original     NaN  2014.0      NaN        Kids   \n",
       "\n",
       "        status    eps  eps_avg_duration_in_min rated_by  \n",
       "3163  Finished   26.0                     13.0       15  \n",
       "3164  Finished  104.0                     10.0       15  \n",
       "3165  Finished   26.0                     12.0       15  \n",
       "3166  Finished  300.0                      5.0       15  \n",
       "3167  Finished   32.0                     12.0       15  "
      ]
     },
     "execution_count": 4,
     "metadata": {},
     "output_type": "execute_result"
    }
   ],
   "source": [
    "# Menampilkan data terbawah\n",
    "df.tail()"
   ]
  },
  {
   "cell_type": "code",
   "execution_count": 5,
   "metadata": {},
   "outputs": [
    {
     "data": {
      "text/plain": [
       "(3168, 14)"
      ]
     },
     "execution_count": 5,
     "metadata": {},
     "output_type": "execute_result"
    }
   ],
   "source": [
    "df.shape"
   ]
  },
  {
   "attachments": {},
   "cell_type": "markdown",
   "metadata": {},
   "source": [
    "Terdapat 3168 data dalam 14 kolom\n",
    "\n",
    "---"
   ]
  },
  {
   "attachments": {},
   "cell_type": "markdown",
   "metadata": {},
   "source": [
    "# 4. Data Cleaning\n",
    "\n",
    "Data yang bersih akan meningkatkan produktivitas secara keseluruhan dan memungkinkan pengambilan informasi berkualitas untuk eksplorasi data. Oleh karena itu, dilakukan data cleaning. Sebelum data cleaning dilakukan, salinan data dibuat dengan `.copy()` agar data awal tidak rusak jika suatu saat ingin kembali."
   ]
  },
  {
   "cell_type": "code",
   "execution_count": 6,
   "metadata": {},
   "outputs": [],
   "source": [
    "# Membuat copy dataframe dan diberi nama anime\n",
    "anime = df.copy()"
   ]
  },
  {
   "attachments": {},
   "cell_type": "markdown",
   "metadata": {},
   "source": [
    "## Pemeriksaan Data"
   ]
  },
  {
   "attachments": {},
   "cell_type": "markdown",
   "metadata": {},
   "source": [
    "Data diperiksa tipe value pada setiap variabelnya, lalu diubah menjadi tipe yang dapat diproses."
   ]
  },
  {
   "cell_type": "code",
   "execution_count": 7,
   "metadata": {},
   "outputs": [
    {
     "name": "stdout",
     "output_type": "stream",
     "text": [
      "<class 'pandas.core.frame.DataFrame'>\n",
      "RangeIndex: 3168 entries, 0 to 3167\n",
      "Data columns (total 14 columns):\n",
      " #   Column                   Non-Null Count  Dtype  \n",
      "---  ------                   --------------  -----  \n",
      " 0   Unnamed: 0               3168 non-null   int64  \n",
      " 1   name                     3168 non-null   object \n",
      " 2   studio                   3168 non-null   object \n",
      " 3   theme                    3168 non-null   object \n",
      " 4   tags                     2595 non-null   object \n",
      " 5   source                   2659 non-null   object \n",
      " 6   rating                   1839 non-null   float64\n",
      " 7   year                     3121 non-null   float64\n",
      " 8   synopsis                 2358 non-null   object \n",
      " 9   demographic              3168 non-null   object \n",
      " 10  status                   3144 non-null   object \n",
      " 11  eps                      3047 non-null   float64\n",
      " 12  eps_avg_duration_in_min  3102 non-null   float64\n",
      " 13  rated_by                 3168 non-null   object \n",
      "dtypes: float64(4), int64(1), object(9)\n",
      "memory usage: 346.6+ KB\n"
     ]
    }
   ],
   "source": [
    "# Memeriksa jenis data\n",
    "anime.info()"
   ]
  },
  {
   "attachments": {},
   "cell_type": "markdown",
   "metadata": {},
   "source": [
    "Kolom `Unnamed: 0`, `synopsis`, dan `status` tidak dibutuhkan dan akan di drop. Tipe data pada kolom `year` dan `rated_by` akan diubah menjadi integer."
   ]
  },
  {
   "cell_type": "code",
   "execution_count": 8,
   "metadata": {},
   "outputs": [
    {
     "data": {
      "text/html": [
       "<div>\n",
       "<style scoped>\n",
       "    .dataframe tbody tr th:only-of-type {\n",
       "        vertical-align: middle;\n",
       "    }\n",
       "\n",
       "    .dataframe tbody tr th {\n",
       "        vertical-align: top;\n",
       "    }\n",
       "\n",
       "    .dataframe thead th {\n",
       "        text-align: right;\n",
       "    }\n",
       "</style>\n",
       "<table border=\"1\" class=\"dataframe\">\n",
       "  <thead>\n",
       "    <tr style=\"text-align: right;\">\n",
       "      <th></th>\n",
       "      <th>name</th>\n",
       "      <th>studio</th>\n",
       "      <th>theme</th>\n",
       "      <th>tags</th>\n",
       "      <th>source</th>\n",
       "      <th>rating</th>\n",
       "      <th>year</th>\n",
       "      <th>demographic</th>\n",
       "      <th>status</th>\n",
       "      <th>eps</th>\n",
       "      <th>eps_avg_duration_in_min</th>\n",
       "      <th>rated_by</th>\n",
       "    </tr>\n",
       "  </thead>\n",
       "  <tbody>\n",
       "    <tr>\n",
       "      <th>0</th>\n",
       "      <td>Shingeki no Kyojin</td>\n",
       "      <td>Wit Studio</td>\n",
       "      <td>Gore, Military, Survival</td>\n",
       "      <td>Action, Drama</td>\n",
       "      <td>Manga</td>\n",
       "      <td>8.53</td>\n",
       "      <td>2013.0</td>\n",
       "      <td>Shounen</td>\n",
       "      <td>Finished</td>\n",
       "      <td>25.0</td>\n",
       "      <td>24.0</td>\n",
       "      <td>3.5M</td>\n",
       "    </tr>\n",
       "    <tr>\n",
       "      <th>1</th>\n",
       "      <td>Death Note</td>\n",
       "      <td>Madhouse</td>\n",
       "      <td>Psychological</td>\n",
       "      <td>Supernatural, Suspense</td>\n",
       "      <td>Manga</td>\n",
       "      <td>8.62</td>\n",
       "      <td>2006.0</td>\n",
       "      <td>Shounen</td>\n",
       "      <td>Finished</td>\n",
       "      <td>37.0</td>\n",
       "      <td>23.0</td>\n",
       "      <td>3.5M</td>\n",
       "    </tr>\n",
       "    <tr>\n",
       "      <th>2</th>\n",
       "      <td>Fullmetal Alchemist: Brotherhood</td>\n",
       "      <td>Bones</td>\n",
       "      <td>Military</td>\n",
       "      <td>Action, Adventure, Drama, Fantasy</td>\n",
       "      <td>Manga</td>\n",
       "      <td>9.13</td>\n",
       "      <td>2009.0</td>\n",
       "      <td>Shounen</td>\n",
       "      <td>Finished</td>\n",
       "      <td>64.0</td>\n",
       "      <td>24.0</td>\n",
       "      <td>3.0M</td>\n",
       "    </tr>\n",
       "    <tr>\n",
       "      <th>3</th>\n",
       "      <td>Boku no Hero Academia</td>\n",
       "      <td>Bones</td>\n",
       "      <td>School, Super Power</td>\n",
       "      <td>Action</td>\n",
       "      <td>Manga</td>\n",
       "      <td>7.92</td>\n",
       "      <td>2016.0</td>\n",
       "      <td>Shounen</td>\n",
       "      <td>Finished</td>\n",
       "      <td>13.0</td>\n",
       "      <td>24.0</td>\n",
       "      <td>2.7M</td>\n",
       "    </tr>\n",
       "    <tr>\n",
       "      <th>4</th>\n",
       "      <td>Naruto</td>\n",
       "      <td>Pierrot</td>\n",
       "      <td>Martial Arts</td>\n",
       "      <td>Action, Adventure, Fantasy</td>\n",
       "      <td>Manga</td>\n",
       "      <td>7.97</td>\n",
       "      <td>2002.0</td>\n",
       "      <td>Shounen</td>\n",
       "      <td>Finished</td>\n",
       "      <td>220.0</td>\n",
       "      <td>23.0</td>\n",
       "      <td>2.5M</td>\n",
       "    </tr>\n",
       "  </tbody>\n",
       "</table>\n",
       "</div>"
      ],
      "text/plain": [
       "                               name      studio                     theme  \\\n",
       "0                Shingeki no Kyojin  Wit Studio  Gore, Military, Survival   \n",
       "1                        Death Note    Madhouse             Psychological   \n",
       "2  Fullmetal Alchemist: Brotherhood       Bones                  Military   \n",
       "3             Boku no Hero Academia       Bones       School, Super Power   \n",
       "4                            Naruto     Pierrot              Martial Arts   \n",
       "\n",
       "                                tags source  rating    year demographic  \\\n",
       "0                      Action, Drama  Manga    8.53  2013.0     Shounen   \n",
       "1             Supernatural, Suspense  Manga    8.62  2006.0     Shounen   \n",
       "2  Action, Adventure, Drama, Fantasy  Manga    9.13  2009.0     Shounen   \n",
       "3                             Action  Manga    7.92  2016.0     Shounen   \n",
       "4         Action, Adventure, Fantasy  Manga    7.97  2002.0     Shounen   \n",
       "\n",
       "     status    eps  eps_avg_duration_in_min rated_by  \n",
       "0  Finished   25.0                     24.0     3.5M  \n",
       "1  Finished   37.0                     23.0     3.5M  \n",
       "2  Finished   64.0                     24.0     3.0M  \n",
       "3  Finished   13.0                     24.0     2.7M  \n",
       "4  Finished  220.0                     23.0     2.5M  "
      ]
     },
     "execution_count": 8,
     "metadata": {},
     "output_type": "execute_result"
    }
   ],
   "source": [
    "# Drop kolom\n",
    "anime.drop(columns=['Unnamed: 0', 'synopsis'], inplace=True)\n",
    "anime.head()"
   ]
  },
  {
   "cell_type": "code",
   "execution_count": 9,
   "metadata": {},
   "outputs": [],
   "source": [
    "# Ubah kolom year menjadi integer\n",
    "anime['year'] = anime['year'].astype(dtype= 'Int64')"
   ]
  },
  {
   "cell_type": "code",
   "execution_count": 10,
   "metadata": {},
   "outputs": [],
   "source": [
    "# Ubah kolom rated_by menjadi Integer\n",
    "# Mengubah 'K' dan 'M' menjadi perkalian 1000 dan perkalian 1000000\n",
    "anime['rated_by'] = (anime.rated_by.replace(r'[KM]+$', '', regex=True).astype(float) * \\\n",
    "                     anime.rated_by.str.extract(r'[\\d\\.]+([KM]+)', expand=False)\n",
    "                     .fillna(1).replace(['K','M'], [10**3, 10**6]).astype(int))\n",
    "\n",
    "# Mengubah tipe data float menjadi integer\n",
    "anime['rated_by'] = anime['rated_by'].astype(dtype= 'Int64')\n"
   ]
  },
  {
   "cell_type": "code",
   "execution_count": 11,
   "metadata": {},
   "outputs": [
    {
     "name": "stdout",
     "output_type": "stream",
     "text": [
      "<class 'pandas.core.frame.DataFrame'>\n",
      "RangeIndex: 3168 entries, 0 to 3167\n",
      "Data columns (total 12 columns):\n",
      " #   Column                   Non-Null Count  Dtype  \n",
      "---  ------                   --------------  -----  \n",
      " 0   name                     3168 non-null   object \n",
      " 1   studio                   3168 non-null   object \n",
      " 2   theme                    3168 non-null   object \n",
      " 3   tags                     2595 non-null   object \n",
      " 4   source                   2659 non-null   object \n",
      " 5   rating                   1839 non-null   float64\n",
      " 6   year                     3121 non-null   Int64  \n",
      " 7   demographic              3168 non-null   object \n",
      " 8   status                   3144 non-null   object \n",
      " 9   eps                      3047 non-null   float64\n",
      " 10  eps_avg_duration_in_min  3102 non-null   float64\n",
      " 11  rated_by                 3168 non-null   Int64  \n",
      "dtypes: Int64(2), float64(3), object(7)\n",
      "memory usage: 303.3+ KB\n"
     ]
    }
   ],
   "source": [
    "anime.info()"
   ]
  },
  {
   "attachments": {},
   "cell_type": "markdown",
   "metadata": {},
   "source": [
    "Tipe data sudah sesuai untuk diproses."
   ]
  },
  {
   "attachments": {},
   "cell_type": "markdown",
   "metadata": {},
   "source": [
    "## Pemotongan Data\n",
    "\n",
    "Data yang dibutuhkan hanyalah anime yang populer. Parameter popularitas dapat dihitung dari jumlah rating pada kolom `rated_by`. Batas data yang akan digunakan hanya data yang memiliki jumlah rating diatas 10000."
   ]
  },
  {
   "cell_type": "code",
   "execution_count": 12,
   "metadata": {},
   "outputs": [],
   "source": [
    "# Slicing data dengan jumlah rating > 10000\n",
    "anime = anime[anime['rated_by'] >= 10000]"
   ]
  },
  {
   "cell_type": "code",
   "execution_count": 13,
   "metadata": {},
   "outputs": [
    {
     "data": {
      "text/html": [
       "<div>\n",
       "<style scoped>\n",
       "    .dataframe tbody tr th:only-of-type {\n",
       "        vertical-align: middle;\n",
       "    }\n",
       "\n",
       "    .dataframe tbody tr th {\n",
       "        vertical-align: top;\n",
       "    }\n",
       "\n",
       "    .dataframe thead th {\n",
       "        text-align: right;\n",
       "    }\n",
       "</style>\n",
       "<table border=\"1\" class=\"dataframe\">\n",
       "  <thead>\n",
       "    <tr style=\"text-align: right;\">\n",
       "      <th></th>\n",
       "      <th>name</th>\n",
       "      <th>studio</th>\n",
       "      <th>theme</th>\n",
       "      <th>tags</th>\n",
       "      <th>source</th>\n",
       "      <th>rating</th>\n",
       "      <th>year</th>\n",
       "      <th>demographic</th>\n",
       "      <th>status</th>\n",
       "      <th>eps</th>\n",
       "      <th>eps_avg_duration_in_min</th>\n",
       "      <th>rated_by</th>\n",
       "    </tr>\n",
       "  </thead>\n",
       "  <tbody>\n",
       "    <tr>\n",
       "      <th>0</th>\n",
       "      <td>Shingeki no Kyojin</td>\n",
       "      <td>Wit Studio</td>\n",
       "      <td>Gore, Military, Survival</td>\n",
       "      <td>Action, Drama</td>\n",
       "      <td>Manga</td>\n",
       "      <td>8.53</td>\n",
       "      <td>2013</td>\n",
       "      <td>Shounen</td>\n",
       "      <td>Finished</td>\n",
       "      <td>25.0</td>\n",
       "      <td>24.0</td>\n",
       "      <td>3500000</td>\n",
       "    </tr>\n",
       "    <tr>\n",
       "      <th>1</th>\n",
       "      <td>Death Note</td>\n",
       "      <td>Madhouse</td>\n",
       "      <td>Psychological</td>\n",
       "      <td>Supernatural, Suspense</td>\n",
       "      <td>Manga</td>\n",
       "      <td>8.62</td>\n",
       "      <td>2006</td>\n",
       "      <td>Shounen</td>\n",
       "      <td>Finished</td>\n",
       "      <td>37.0</td>\n",
       "      <td>23.0</td>\n",
       "      <td>3500000</td>\n",
       "    </tr>\n",
       "    <tr>\n",
       "      <th>2</th>\n",
       "      <td>Fullmetal Alchemist: Brotherhood</td>\n",
       "      <td>Bones</td>\n",
       "      <td>Military</td>\n",
       "      <td>Action, Adventure, Drama, Fantasy</td>\n",
       "      <td>Manga</td>\n",
       "      <td>9.13</td>\n",
       "      <td>2009</td>\n",
       "      <td>Shounen</td>\n",
       "      <td>Finished</td>\n",
       "      <td>64.0</td>\n",
       "      <td>24.0</td>\n",
       "      <td>3000000</td>\n",
       "    </tr>\n",
       "    <tr>\n",
       "      <th>3</th>\n",
       "      <td>Boku no Hero Academia</td>\n",
       "      <td>Bones</td>\n",
       "      <td>School, Super Power</td>\n",
       "      <td>Action</td>\n",
       "      <td>Manga</td>\n",
       "      <td>7.92</td>\n",
       "      <td>2016</td>\n",
       "      <td>Shounen</td>\n",
       "      <td>Finished</td>\n",
       "      <td>13.0</td>\n",
       "      <td>24.0</td>\n",
       "      <td>2700000</td>\n",
       "    </tr>\n",
       "    <tr>\n",
       "      <th>4</th>\n",
       "      <td>Naruto</td>\n",
       "      <td>Pierrot</td>\n",
       "      <td>Martial Arts</td>\n",
       "      <td>Action, Adventure, Fantasy</td>\n",
       "      <td>Manga</td>\n",
       "      <td>7.97</td>\n",
       "      <td>2002</td>\n",
       "      <td>Shounen</td>\n",
       "      <td>Finished</td>\n",
       "      <td>220.0</td>\n",
       "      <td>23.0</td>\n",
       "      <td>2500000</td>\n",
       "    </tr>\n",
       "    <tr>\n",
       "      <th>...</th>\n",
       "      <td>...</td>\n",
       "      <td>...</td>\n",
       "      <td>...</td>\n",
       "      <td>...</td>\n",
       "      <td>...</td>\n",
       "      <td>...</td>\n",
       "      <td>...</td>\n",
       "      <td>...</td>\n",
       "      <td>...</td>\n",
       "      <td>...</td>\n",
       "      <td>...</td>\n",
       "      <td>...</td>\n",
       "    </tr>\n",
       "    <tr>\n",
       "      <th>1689</th>\n",
       "      <td>B-Legend! Battle B-Daman</td>\n",
       "      <td>Nippon Animation</td>\n",
       "      <td>Strategy Game</td>\n",
       "      <td>Adventure, Fantasy</td>\n",
       "      <td>Manga</td>\n",
       "      <td>6.28</td>\n",
       "      <td>2004</td>\n",
       "      <td>Kids</td>\n",
       "      <td>Finished</td>\n",
       "      <td>52.0</td>\n",
       "      <td>22.0</td>\n",
       "      <td>13000</td>\n",
       "    </tr>\n",
       "    <tr>\n",
       "      <th>1690</th>\n",
       "      <td>Beyblade Burst Chouzetsu</td>\n",
       "      <td>OLM</td>\n",
       "      <td>Kids</td>\n",
       "      <td>Action, Adventure, Sci-Fi, Sports</td>\n",
       "      <td>Manga</td>\n",
       "      <td>6.45</td>\n",
       "      <td>2018</td>\n",
       "      <td>Kids</td>\n",
       "      <td>Finished</td>\n",
       "      <td>51.0</td>\n",
       "      <td>24.0</td>\n",
       "      <td>12000</td>\n",
       "    </tr>\n",
       "    <tr>\n",
       "      <th>1691</th>\n",
       "      <td>Gudetama</td>\n",
       "      <td>Gathering</td>\n",
       "      <td>Kids</td>\n",
       "      <td>Comedy, Gourmet</td>\n",
       "      <td>Original</td>\n",
       "      <td>7.03</td>\n",
       "      <td>2014</td>\n",
       "      <td>Kids</td>\n",
       "      <td>Airing</td>\n",
       "      <td>NaN</td>\n",
       "      <td>1.0</td>\n",
       "      <td>11000</td>\n",
       "    </tr>\n",
       "    <tr>\n",
       "      <th>1692</th>\n",
       "      <td>Furusato Saisei: Nippon no Mukashibanashi</td>\n",
       "      <td>Tomason</td>\n",
       "      <td>Historical</td>\n",
       "      <td>Supernatural</td>\n",
       "      <td>Other</td>\n",
       "      <td>6.97</td>\n",
       "      <td>2012</td>\n",
       "      <td>Kids</td>\n",
       "      <td>Finished</td>\n",
       "      <td>258.0</td>\n",
       "      <td>24.0</td>\n",
       "      <td>10000</td>\n",
       "    </tr>\n",
       "    <tr>\n",
       "      <th>1693</th>\n",
       "      <td>Bakusou Kyoudai Let's &amp; Go</td>\n",
       "      <td>Xebec</td>\n",
       "      <td>Racing</td>\n",
       "      <td>Adventure</td>\n",
       "      <td>Manga</td>\n",
       "      <td>6.83</td>\n",
       "      <td>1996</td>\n",
       "      <td>Kids</td>\n",
       "      <td>Finished</td>\n",
       "      <td>51.0</td>\n",
       "      <td>25.0</td>\n",
       "      <td>10000</td>\n",
       "    </tr>\n",
       "  </tbody>\n",
       "</table>\n",
       "<p>1248 rows × 12 columns</p>\n",
       "</div>"
      ],
      "text/plain": [
       "                                           name            studio  \\\n",
       "0                            Shingeki no Kyojin        Wit Studio   \n",
       "1                                    Death Note          Madhouse   \n",
       "2              Fullmetal Alchemist: Brotherhood             Bones   \n",
       "3                         Boku no Hero Academia             Bones   \n",
       "4                                        Naruto           Pierrot   \n",
       "...                                         ...               ...   \n",
       "1689                   B-Legend! Battle B-Daman  Nippon Animation   \n",
       "1690                   Beyblade Burst Chouzetsu               OLM   \n",
       "1691                                   Gudetama         Gathering   \n",
       "1692  Furusato Saisei: Nippon no Mukashibanashi           Tomason   \n",
       "1693                 Bakusou Kyoudai Let's & Go             Xebec   \n",
       "\n",
       "                         theme                               tags    source  \\\n",
       "0     Gore, Military, Survival                      Action, Drama     Manga   \n",
       "1                Psychological             Supernatural, Suspense     Manga   \n",
       "2                     Military  Action, Adventure, Drama, Fantasy     Manga   \n",
       "3          School, Super Power                             Action     Manga   \n",
       "4                 Martial Arts         Action, Adventure, Fantasy     Manga   \n",
       "...                        ...                                ...       ...   \n",
       "1689             Strategy Game                 Adventure, Fantasy     Manga   \n",
       "1690                      Kids  Action, Adventure, Sci-Fi, Sports     Manga   \n",
       "1691                      Kids                    Comedy, Gourmet  Original   \n",
       "1692                Historical                       Supernatural     Other   \n",
       "1693                    Racing                          Adventure     Manga   \n",
       "\n",
       "      rating  year demographic    status    eps  eps_avg_duration_in_min  \\\n",
       "0       8.53  2013     Shounen  Finished   25.0                     24.0   \n",
       "1       8.62  2006     Shounen  Finished   37.0                     23.0   \n",
       "2       9.13  2009     Shounen  Finished   64.0                     24.0   \n",
       "3       7.92  2016     Shounen  Finished   13.0                     24.0   \n",
       "4       7.97  2002     Shounen  Finished  220.0                     23.0   \n",
       "...      ...   ...         ...       ...    ...                      ...   \n",
       "1689    6.28  2004        Kids  Finished   52.0                     22.0   \n",
       "1690    6.45  2018        Kids  Finished   51.0                     24.0   \n",
       "1691    7.03  2014        Kids    Airing    NaN                      1.0   \n",
       "1692    6.97  2012        Kids  Finished  258.0                     24.0   \n",
       "1693    6.83  1996        Kids  Finished   51.0                     25.0   \n",
       "\n",
       "      rated_by  \n",
       "0      3500000  \n",
       "1      3500000  \n",
       "2      3000000  \n",
       "3      2700000  \n",
       "4      2500000  \n",
       "...        ...  \n",
       "1689     13000  \n",
       "1690     12000  \n",
       "1691     11000  \n",
       "1692     10000  \n",
       "1693     10000  \n",
       "\n",
       "[1248 rows x 12 columns]"
      ]
     },
     "execution_count": 13,
     "metadata": {},
     "output_type": "execute_result"
    }
   ],
   "source": [
    "anime"
   ]
  },
  {
   "attachments": {},
   "cell_type": "markdown",
   "metadata": {},
   "source": [
    "Tersisa  1248 data dalam 11 kolom."
   ]
  },
  {
   "attachments": {},
   "cell_type": "markdown",
   "metadata": {},
   "source": [
    "## Missing Value"
   ]
  },
  {
   "attachments": {},
   "cell_type": "markdown",
   "metadata": {},
   "source": [
    "Jumlah missing value diperiksa terlebih dahulu"
   ]
  },
  {
   "cell_type": "code",
   "execution_count": 14,
   "metadata": {},
   "outputs": [
    {
     "data": {
      "text/plain": [
       "name                        0\n",
       "studio                      0\n",
       "theme                       0\n",
       "tags                       12\n",
       "source                      2\n",
       "rating                     31\n",
       "year                        9\n",
       "demographic                 0\n",
       "status                      9\n",
       "eps                        40\n",
       "eps_avg_duration_in_min    28\n",
       "rated_by                    0\n",
       "dtype: int64"
      ]
     },
     "execution_count": 14,
     "metadata": {},
     "output_type": "execute_result"
    }
   ],
   "source": [
    "# Memeriksa jumlah missing value\n",
    "anime.isnull().sum()"
   ]
  },
  {
   "attachments": {},
   "cell_type": "markdown",
   "metadata": {},
   "source": [
    "Terdapat missing values pada kolom `tags`, `source`, `rating`, `year`, `eps`, dan `eps_avg_duration_in_min`."
   ]
  },
  {
   "cell_type": "code",
   "execution_count": 15,
   "metadata": {},
   "outputs": [
    {
     "data": {
      "text/plain": [
       "array(['Finished', 'Airing', 'Not', nan], dtype=object)"
      ]
     },
     "execution_count": 15,
     "metadata": {},
     "output_type": "execute_result"
    }
   ],
   "source": [
    "# Cek data status\n",
    "anime.status.unique()"
   ]
  },
  {
   "cell_type": "code",
   "execution_count": 16,
   "metadata": {},
   "outputs": [
    {
     "data": {
      "text/html": [
       "<div>\n",
       "<style scoped>\n",
       "    .dataframe tbody tr th:only-of-type {\n",
       "        vertical-align: middle;\n",
       "    }\n",
       "\n",
       "    .dataframe tbody tr th {\n",
       "        vertical-align: top;\n",
       "    }\n",
       "\n",
       "    .dataframe thead th {\n",
       "        text-align: right;\n",
       "    }\n",
       "</style>\n",
       "<table border=\"1\" class=\"dataframe\">\n",
       "  <thead>\n",
       "    <tr style=\"text-align: right;\">\n",
       "      <th></th>\n",
       "      <th>name</th>\n",
       "      <th>studio</th>\n",
       "      <th>theme</th>\n",
       "      <th>tags</th>\n",
       "      <th>source</th>\n",
       "      <th>rating</th>\n",
       "      <th>year</th>\n",
       "      <th>demographic</th>\n",
       "      <th>status</th>\n",
       "      <th>eps</th>\n",
       "      <th>eps_avg_duration_in_min</th>\n",
       "      <th>rated_by</th>\n",
       "    </tr>\n",
       "  </thead>\n",
       "  <tbody>\n",
       "    <tr>\n",
       "      <th>342</th>\n",
       "      <td>Kimetsu no Yaiba: Katanakaji no Sato-hen</td>\n",
       "      <td>ufotable</td>\n",
       "      <td>Historical</td>\n",
       "      <td>Action, Fantasy</td>\n",
       "      <td>Manga</td>\n",
       "      <td>NaN</td>\n",
       "      <td>&lt;NA&gt;</td>\n",
       "      <td>Shounen</td>\n",
       "      <td>NaN</td>\n",
       "      <td>NaN</td>\n",
       "      <td>NaN</td>\n",
       "      <td>103000</td>\n",
       "    </tr>\n",
       "    <tr>\n",
       "      <th>345</th>\n",
       "      <td>Tonikaku Kawaii 2nd Season</td>\n",
       "      <td>Unknown</td>\n",
       "      <td>Shounen</td>\n",
       "      <td>Comedy, Romance</td>\n",
       "      <td>Manga</td>\n",
       "      <td>NaN</td>\n",
       "      <td>&lt;NA&gt;</td>\n",
       "      <td>Shounen</td>\n",
       "      <td>NaN</td>\n",
       "      <td>NaN</td>\n",
       "      <td>NaN</td>\n",
       "      <td>98000</td>\n",
       "    </tr>\n",
       "    <tr>\n",
       "      <th>415</th>\n",
       "      <td>Jigokuraku</td>\n",
       "      <td>MAPPA</td>\n",
       "      <td>Historical</td>\n",
       "      <td>NaN</td>\n",
       "      <td>Manga</td>\n",
       "      <td>NaN</td>\n",
       "      <td>&lt;NA&gt;</td>\n",
       "      <td>Shounen</td>\n",
       "      <td>NaN</td>\n",
       "      <td>NaN</td>\n",
       "      <td>NaN</td>\n",
       "      <td>60000</td>\n",
       "    </tr>\n",
       "    <tr>\n",
       "      <th>420</th>\n",
       "      <td>Fairy Tail: 100 Years Quest</td>\n",
       "      <td>Unknown</td>\n",
       "      <td>Shounen</td>\n",
       "      <td>Action, Adventure, Fantasy</td>\n",
       "      <td>Manga</td>\n",
       "      <td>NaN</td>\n",
       "      <td>&lt;NA&gt;</td>\n",
       "      <td>Shounen</td>\n",
       "      <td>NaN</td>\n",
       "      <td>NaN</td>\n",
       "      <td>NaN</td>\n",
       "      <td>56000</td>\n",
       "    </tr>\n",
       "    <tr>\n",
       "      <th>435</th>\n",
       "      <td>Enen no Shouboutai: San no Shou</td>\n",
       "      <td>David Production</td>\n",
       "      <td>Shounen</td>\n",
       "      <td>Action, Supernatural</td>\n",
       "      <td>Manga</td>\n",
       "      <td>NaN</td>\n",
       "      <td>&lt;NA&gt;</td>\n",
       "      <td>Shounen</td>\n",
       "      <td>NaN</td>\n",
       "      <td>NaN</td>\n",
       "      <td>NaN</td>\n",
       "      <td>52000</td>\n",
       "    </tr>\n",
       "    <tr>\n",
       "      <th>466</th>\n",
       "      <td>Masamune-kun no Revenge R</td>\n",
       "      <td>SILVER LINK.</td>\n",
       "      <td>Harem, School</td>\n",
       "      <td>Comedy, Romance</td>\n",
       "      <td>Manga</td>\n",
       "      <td>NaN</td>\n",
       "      <td>&lt;NA&gt;</td>\n",
       "      <td>Shounen</td>\n",
       "      <td>NaN</td>\n",
       "      <td>NaN</td>\n",
       "      <td>NaN</td>\n",
       "      <td>40000</td>\n",
       "    </tr>\n",
       "    <tr>\n",
       "      <th>579</th>\n",
       "      <td>Nanatsu no Taizai: Mokushiroku no Yonkishi</td>\n",
       "      <td>Unknown</td>\n",
       "      <td>Shounen</td>\n",
       "      <td>Action, Adventure, Fantasy</td>\n",
       "      <td>Manga</td>\n",
       "      <td>NaN</td>\n",
       "      <td>&lt;NA&gt;</td>\n",
       "      <td>Shounen</td>\n",
       "      <td>NaN</td>\n",
       "      <td>NaN</td>\n",
       "      <td>NaN</td>\n",
       "      <td>16000</td>\n",
       "    </tr>\n",
       "    <tr>\n",
       "      <th>1161</th>\n",
       "      <td>One Punch Man 3</td>\n",
       "      <td>Unknown</td>\n",
       "      <td>Parody, Super Power</td>\n",
       "      <td>Action, Comedy</td>\n",
       "      <td>Manga</td>\n",
       "      <td>NaN</td>\n",
       "      <td>&lt;NA&gt;</td>\n",
       "      <td>Seinen</td>\n",
       "      <td>NaN</td>\n",
       "      <td>NaN</td>\n",
       "      <td>NaN</td>\n",
       "      <td>33000</td>\n",
       "    </tr>\n",
       "    <tr>\n",
       "      <th>1182</th>\n",
       "      <td>\"Oshi no Ko\"</td>\n",
       "      <td>Doga Kobo</td>\n",
       "      <td>Music, Reincarnation</td>\n",
       "      <td>Drama, Supernatural</td>\n",
       "      <td>Manga</td>\n",
       "      <td>NaN</td>\n",
       "      <td>&lt;NA&gt;</td>\n",
       "      <td>Seinen</td>\n",
       "      <td>NaN</td>\n",
       "      <td>NaN</td>\n",
       "      <td>NaN</td>\n",
       "      <td>21000</td>\n",
       "    </tr>\n",
       "  </tbody>\n",
       "</table>\n",
       "</div>"
      ],
      "text/plain": [
       "                                            name            studio  \\\n",
       "342     Kimetsu no Yaiba: Katanakaji no Sato-hen          ufotable   \n",
       "345                   Tonikaku Kawaii 2nd Season           Unknown   \n",
       "415                                   Jigokuraku             MAPPA   \n",
       "420                  Fairy Tail: 100 Years Quest           Unknown   \n",
       "435              Enen no Shouboutai: San no Shou  David Production   \n",
       "466                    Masamune-kun no Revenge R      SILVER LINK.   \n",
       "579   Nanatsu no Taizai: Mokushiroku no Yonkishi           Unknown   \n",
       "1161                             One Punch Man 3           Unknown   \n",
       "1182                                \"Oshi no Ko\"         Doga Kobo   \n",
       "\n",
       "                     theme                        tags source  rating  year  \\\n",
       "342             Historical             Action, Fantasy  Manga     NaN  <NA>   \n",
       "345                Shounen             Comedy, Romance  Manga     NaN  <NA>   \n",
       "415             Historical                         NaN  Manga     NaN  <NA>   \n",
       "420                Shounen  Action, Adventure, Fantasy  Manga     NaN  <NA>   \n",
       "435                Shounen        Action, Supernatural  Manga     NaN  <NA>   \n",
       "466          Harem, School             Comedy, Romance  Manga     NaN  <NA>   \n",
       "579                Shounen  Action, Adventure, Fantasy  Manga     NaN  <NA>   \n",
       "1161   Parody, Super Power              Action, Comedy  Manga     NaN  <NA>   \n",
       "1182  Music, Reincarnation         Drama, Supernatural  Manga     NaN  <NA>   \n",
       "\n",
       "     demographic status  eps  eps_avg_duration_in_min  rated_by  \n",
       "342      Shounen    NaN  NaN                      NaN    103000  \n",
       "345      Shounen    NaN  NaN                      NaN     98000  \n",
       "415      Shounen    NaN  NaN                      NaN     60000  \n",
       "420      Shounen    NaN  NaN                      NaN     56000  \n",
       "435      Shounen    NaN  NaN                      NaN     52000  \n",
       "466      Shounen    NaN  NaN                      NaN     40000  \n",
       "579      Shounen    NaN  NaN                      NaN     16000  \n",
       "1161      Seinen    NaN  NaN                      NaN     33000  \n",
       "1182      Seinen    NaN  NaN                      NaN     21000  "
      ]
     },
     "execution_count": 16,
     "metadata": {},
     "output_type": "execute_result"
    }
   ],
   "source": [
    "# Periksa data status = nan\n",
    "anime.loc[anime['status'].isna()]"
   ]
  },
  {
   "attachments": {},
   "cell_type": "markdown",
   "metadata": {},
   "source": [
    "Setelah dilakukan pencarian data missing value pada status merupakan anime yang belum tayang."
   ]
  },
  {
   "cell_type": "code",
   "execution_count": 17,
   "metadata": {},
   "outputs": [
    {
     "data": {
      "text/html": [
       "<div>\n",
       "<style scoped>\n",
       "    .dataframe tbody tr th:only-of-type {\n",
       "        vertical-align: middle;\n",
       "    }\n",
       "\n",
       "    .dataframe tbody tr th {\n",
       "        vertical-align: top;\n",
       "    }\n",
       "\n",
       "    .dataframe thead th {\n",
       "        text-align: right;\n",
       "    }\n",
       "</style>\n",
       "<table border=\"1\" class=\"dataframe\">\n",
       "  <thead>\n",
       "    <tr style=\"text-align: right;\">\n",
       "      <th></th>\n",
       "      <th>name</th>\n",
       "      <th>studio</th>\n",
       "      <th>theme</th>\n",
       "      <th>tags</th>\n",
       "      <th>source</th>\n",
       "      <th>rating</th>\n",
       "      <th>year</th>\n",
       "      <th>demographic</th>\n",
       "      <th>status</th>\n",
       "      <th>eps</th>\n",
       "      <th>eps_avg_duration_in_min</th>\n",
       "      <th>rated_by</th>\n",
       "    </tr>\n",
       "  </thead>\n",
       "  <tbody>\n",
       "    <tr>\n",
       "      <th>123</th>\n",
       "      <td>Chainsaw Man</td>\n",
       "      <td>MAPPA</td>\n",
       "      <td>Gore</td>\n",
       "      <td>Action, Adventure</td>\n",
       "      <td>Manga</td>\n",
       "      <td>NaN</td>\n",
       "      <td>2022</td>\n",
       "      <td>Shounen</td>\n",
       "      <td>Not</td>\n",
       "      <td>NaN</td>\n",
       "      <td>NaN</td>\n",
       "      <td>482000</td>\n",
       "    </tr>\n",
       "    <tr>\n",
       "      <th>231</th>\n",
       "      <td>Boku no Hero Academia 6th Season</td>\n",
       "      <td>Bones</td>\n",
       "      <td>School, Super Power</td>\n",
       "      <td>Action</td>\n",
       "      <td>Manga</td>\n",
       "      <td>NaN</td>\n",
       "      <td>2022</td>\n",
       "      <td>Shounen</td>\n",
       "      <td>Not</td>\n",
       "      <td>NaN</td>\n",
       "      <td>NaN</td>\n",
       "      <td>211000</td>\n",
       "    </tr>\n",
       "    <tr>\n",
       "      <th>239</th>\n",
       "      <td>Spy x Family Part 2</td>\n",
       "      <td>CloverWorks</td>\n",
       "      <td>Childcare</td>\n",
       "      <td>Action, Comedy</td>\n",
       "      <td>Manga</td>\n",
       "      <td>NaN</td>\n",
       "      <td>2022</td>\n",
       "      <td>Shounen</td>\n",
       "      <td>Not</td>\n",
       "      <td>NaN</td>\n",
       "      <td>13.0</td>\n",
       "      <td>198000</td>\n",
       "    </tr>\n",
       "    <tr>\n",
       "      <th>254</th>\n",
       "      <td>Shingeki no Kyojin: The Final Season - Kankets...</td>\n",
       "      <td>MAPPA</td>\n",
       "      <td>Gore, Military, Survival</td>\n",
       "      <td>Action, Drama</td>\n",
       "      <td>Manga</td>\n",
       "      <td>NaN</td>\n",
       "      <td>2023</td>\n",
       "      <td>Shounen</td>\n",
       "      <td>Not</td>\n",
       "      <td>NaN</td>\n",
       "      <td>NaN</td>\n",
       "      <td>178000</td>\n",
       "    </tr>\n",
       "    <tr>\n",
       "      <th>283</th>\n",
       "      <td>Bleach: Sennen Kessen-hen</td>\n",
       "      <td>Pierrot</td>\n",
       "      <td>Shounen</td>\n",
       "      <td>Action, Adventure, Fantasy</td>\n",
       "      <td>Manga</td>\n",
       "      <td>NaN</td>\n",
       "      <td>2022</td>\n",
       "      <td>Shounen</td>\n",
       "      <td>Not</td>\n",
       "      <td>NaN</td>\n",
       "      <td>NaN</td>\n",
       "      <td>147000</td>\n",
       "    </tr>\n",
       "  </tbody>\n",
       "</table>\n",
       "</div>"
      ],
      "text/plain": [
       "                                                  name       studio  \\\n",
       "123                                       Chainsaw Man        MAPPA   \n",
       "231                   Boku no Hero Academia 6th Season        Bones   \n",
       "239                                Spy x Family Part 2  CloverWorks   \n",
       "254  Shingeki no Kyojin: The Final Season - Kankets...        MAPPA   \n",
       "283                          Bleach: Sennen Kessen-hen      Pierrot   \n",
       "\n",
       "                        theme                        tags source  rating  \\\n",
       "123                      Gore           Action, Adventure  Manga     NaN   \n",
       "231       School, Super Power                      Action  Manga     NaN   \n",
       "239                 Childcare              Action, Comedy  Manga     NaN   \n",
       "254  Gore, Military, Survival               Action, Drama  Manga     NaN   \n",
       "283                   Shounen  Action, Adventure, Fantasy  Manga     NaN   \n",
       "\n",
       "     year demographic status  eps  eps_avg_duration_in_min  rated_by  \n",
       "123  2022     Shounen    Not  NaN                      NaN    482000  \n",
       "231  2022     Shounen    Not  NaN                      NaN    211000  \n",
       "239  2022     Shounen    Not  NaN                     13.0    198000  \n",
       "254  2023     Shounen    Not  NaN                      NaN    178000  \n",
       "283  2022     Shounen    Not  NaN                      NaN    147000  "
      ]
     },
     "execution_count": 17,
     "metadata": {},
     "output_type": "execute_result"
    }
   ],
   "source": [
    "# periksa data status = Not\n",
    "anime[anime.status == \"Not\"].head()"
   ]
  },
  {
   "attachments": {},
   "cell_type": "markdown",
   "metadata": {},
   "source": [
    "Setelah dilakukan pencarian data `Not` pada `status` merupakan anime yang belum tayang. Maka missing value dan data Not akan diubah menjadi `Not Aired`. "
   ]
  },
  {
   "cell_type": "code",
   "execution_count": 18,
   "metadata": {},
   "outputs": [
    {
     "data": {
      "text/plain": [
       "source\n",
       "4-koma manga     48\n",
       "Book              3\n",
       "Card game         5\n",
       "Game             43\n",
       "Light novel      29\n",
       "Manga           960\n",
       "Mixed media       3\n",
       "Novel            11\n",
       "Original         99\n",
       "Other             7\n",
       "Picture book      1\n",
       "Visual novel     30\n",
       "Web manga         7\n",
       "Name: source, dtype: int64"
      ]
     },
     "execution_count": 18,
     "metadata": {},
     "output_type": "execute_result"
    }
   ],
   "source": [
    "# cek data source\n",
    "anime.groupby(['source'])['source'].count()"
   ]
  },
  {
   "attachments": {},
   "cell_type": "markdown",
   "metadata": {},
   "source": [
    "Missing value pada `source` dapat diisi dengan `Other`."
   ]
  },
  {
   "cell_type": "code",
   "execution_count": 19,
   "metadata": {},
   "outputs": [
    {
     "data": {
      "text/plain": [
       "tags\n",
       "Comedy                                                   63\n",
       "Comedy, Slice, of, Life                                  58\n",
       "Comedy, Romance                                          52\n",
       "Sports                                                   44\n",
       "Action, Fantasy                                          28\n",
       "                                                         ..\n",
       "Action, Comedy, Sci-Fi, Supernatural                      1\n",
       "Comedy, Drama, Slice, of, Life, Supernatural              1\n",
       "Action, Comedy, Sci-Fi, Sports                            1\n",
       "Action, Comedy, Sci-Fi, Slice, of, Life                   1\n",
       "Action, Comedy, Fantasy, Romance, Supernatural, Ecchi     1\n",
       "Name: tags, Length: 313, dtype: int64"
      ]
     },
     "execution_count": 19,
     "metadata": {},
     "output_type": "execute_result"
    }
   ],
   "source": [
    "# Cek data tags\n",
    "anime.groupby(['tags'])['tags'].count().sort_values(ascending=False)"
   ]
  },
  {
   "cell_type": "code",
   "execution_count": 20,
   "metadata": {},
   "outputs": [],
   "source": [
    "# missing value pada status diisi dengan value 'Not Aired'\n",
    "anime['status'].fillna('Not Aired', inplace=True)\n",
    "# Value Not pada status diubah menjadi Not Aired\n",
    "anime['status'].replace('Not', 'Not Aired', inplace=True)"
   ]
  },
  {
   "cell_type": "code",
   "execution_count": 21,
   "metadata": {},
   "outputs": [],
   "source": [
    "# missing value pada source diisi dengan value 'Other'\n",
    "anime['source'].fillna('Other', inplace=True)"
   ]
  },
  {
   "cell_type": "code",
   "execution_count": 22,
   "metadata": {},
   "outputs": [],
   "source": [
    "# missing value pada tags diisi dengan value 'None'\n",
    "anime['tags'].fillna('None', inplace=True)"
   ]
  },
  {
   "cell_type": "code",
   "execution_count": 23,
   "metadata": {},
   "outputs": [
    {
     "data": {
      "text/html": [
       "<div>\n",
       "<style scoped>\n",
       "    .dataframe tbody tr th:only-of-type {\n",
       "        vertical-align: middle;\n",
       "    }\n",
       "\n",
       "    .dataframe tbody tr th {\n",
       "        vertical-align: top;\n",
       "    }\n",
       "\n",
       "    .dataframe thead th {\n",
       "        text-align: right;\n",
       "    }\n",
       "</style>\n",
       "<table border=\"1\" class=\"dataframe\">\n",
       "  <thead>\n",
       "    <tr style=\"text-align: right;\">\n",
       "      <th></th>\n",
       "      <th>name</th>\n",
       "      <th>studio</th>\n",
       "      <th>theme</th>\n",
       "      <th>tags</th>\n",
       "      <th>source</th>\n",
       "      <th>rating</th>\n",
       "      <th>year</th>\n",
       "      <th>demographic</th>\n",
       "      <th>status</th>\n",
       "      <th>eps</th>\n",
       "      <th>eps_avg_duration_in_min</th>\n",
       "      <th>rated_by</th>\n",
       "    </tr>\n",
       "  </thead>\n",
       "  <tbody>\n",
       "    <tr>\n",
       "      <th>342</th>\n",
       "      <td>Kimetsu no Yaiba: Katanakaji no Sato-hen</td>\n",
       "      <td>ufotable</td>\n",
       "      <td>Historical</td>\n",
       "      <td>Action, Fantasy</td>\n",
       "      <td>Manga</td>\n",
       "      <td>NaN</td>\n",
       "      <td>&lt;NA&gt;</td>\n",
       "      <td>Shounen</td>\n",
       "      <td>Not Aired</td>\n",
       "      <td>NaN</td>\n",
       "      <td>NaN</td>\n",
       "      <td>103000</td>\n",
       "    </tr>\n",
       "    <tr>\n",
       "      <th>345</th>\n",
       "      <td>Tonikaku Kawaii 2nd Season</td>\n",
       "      <td>Unknown</td>\n",
       "      <td>Shounen</td>\n",
       "      <td>Comedy, Romance</td>\n",
       "      <td>Manga</td>\n",
       "      <td>NaN</td>\n",
       "      <td>&lt;NA&gt;</td>\n",
       "      <td>Shounen</td>\n",
       "      <td>Not Aired</td>\n",
       "      <td>NaN</td>\n",
       "      <td>NaN</td>\n",
       "      <td>98000</td>\n",
       "    </tr>\n",
       "    <tr>\n",
       "      <th>415</th>\n",
       "      <td>Jigokuraku</td>\n",
       "      <td>MAPPA</td>\n",
       "      <td>Historical</td>\n",
       "      <td>None</td>\n",
       "      <td>Manga</td>\n",
       "      <td>NaN</td>\n",
       "      <td>&lt;NA&gt;</td>\n",
       "      <td>Shounen</td>\n",
       "      <td>Not Aired</td>\n",
       "      <td>NaN</td>\n",
       "      <td>NaN</td>\n",
       "      <td>60000</td>\n",
       "    </tr>\n",
       "    <tr>\n",
       "      <th>420</th>\n",
       "      <td>Fairy Tail: 100 Years Quest</td>\n",
       "      <td>Unknown</td>\n",
       "      <td>Shounen</td>\n",
       "      <td>Action, Adventure, Fantasy</td>\n",
       "      <td>Manga</td>\n",
       "      <td>NaN</td>\n",
       "      <td>&lt;NA&gt;</td>\n",
       "      <td>Shounen</td>\n",
       "      <td>Not Aired</td>\n",
       "      <td>NaN</td>\n",
       "      <td>NaN</td>\n",
       "      <td>56000</td>\n",
       "    </tr>\n",
       "    <tr>\n",
       "      <th>435</th>\n",
       "      <td>Enen no Shouboutai: San no Shou</td>\n",
       "      <td>David Production</td>\n",
       "      <td>Shounen</td>\n",
       "      <td>Action, Supernatural</td>\n",
       "      <td>Manga</td>\n",
       "      <td>NaN</td>\n",
       "      <td>&lt;NA&gt;</td>\n",
       "      <td>Shounen</td>\n",
       "      <td>Not Aired</td>\n",
       "      <td>NaN</td>\n",
       "      <td>NaN</td>\n",
       "      <td>52000</td>\n",
       "    </tr>\n",
       "    <tr>\n",
       "      <th>466</th>\n",
       "      <td>Masamune-kun no Revenge R</td>\n",
       "      <td>SILVER LINK.</td>\n",
       "      <td>Harem, School</td>\n",
       "      <td>Comedy, Romance</td>\n",
       "      <td>Manga</td>\n",
       "      <td>NaN</td>\n",
       "      <td>&lt;NA&gt;</td>\n",
       "      <td>Shounen</td>\n",
       "      <td>Not Aired</td>\n",
       "      <td>NaN</td>\n",
       "      <td>NaN</td>\n",
       "      <td>40000</td>\n",
       "    </tr>\n",
       "    <tr>\n",
       "      <th>579</th>\n",
       "      <td>Nanatsu no Taizai: Mokushiroku no Yonkishi</td>\n",
       "      <td>Unknown</td>\n",
       "      <td>Shounen</td>\n",
       "      <td>Action, Adventure, Fantasy</td>\n",
       "      <td>Manga</td>\n",
       "      <td>NaN</td>\n",
       "      <td>&lt;NA&gt;</td>\n",
       "      <td>Shounen</td>\n",
       "      <td>Not Aired</td>\n",
       "      <td>NaN</td>\n",
       "      <td>NaN</td>\n",
       "      <td>16000</td>\n",
       "    </tr>\n",
       "    <tr>\n",
       "      <th>1161</th>\n",
       "      <td>One Punch Man 3</td>\n",
       "      <td>Unknown</td>\n",
       "      <td>Parody, Super Power</td>\n",
       "      <td>Action, Comedy</td>\n",
       "      <td>Manga</td>\n",
       "      <td>NaN</td>\n",
       "      <td>&lt;NA&gt;</td>\n",
       "      <td>Seinen</td>\n",
       "      <td>Not Aired</td>\n",
       "      <td>NaN</td>\n",
       "      <td>NaN</td>\n",
       "      <td>33000</td>\n",
       "    </tr>\n",
       "    <tr>\n",
       "      <th>1182</th>\n",
       "      <td>\"Oshi no Ko\"</td>\n",
       "      <td>Doga Kobo</td>\n",
       "      <td>Music, Reincarnation</td>\n",
       "      <td>Drama, Supernatural</td>\n",
       "      <td>Manga</td>\n",
       "      <td>NaN</td>\n",
       "      <td>&lt;NA&gt;</td>\n",
       "      <td>Seinen</td>\n",
       "      <td>Not Aired</td>\n",
       "      <td>NaN</td>\n",
       "      <td>NaN</td>\n",
       "      <td>21000</td>\n",
       "    </tr>\n",
       "  </tbody>\n",
       "</table>\n",
       "</div>"
      ],
      "text/plain": [
       "                                            name            studio  \\\n",
       "342     Kimetsu no Yaiba: Katanakaji no Sato-hen          ufotable   \n",
       "345                   Tonikaku Kawaii 2nd Season           Unknown   \n",
       "415                                   Jigokuraku             MAPPA   \n",
       "420                  Fairy Tail: 100 Years Quest           Unknown   \n",
       "435              Enen no Shouboutai: San no Shou  David Production   \n",
       "466                    Masamune-kun no Revenge R      SILVER LINK.   \n",
       "579   Nanatsu no Taizai: Mokushiroku no Yonkishi           Unknown   \n",
       "1161                             One Punch Man 3           Unknown   \n",
       "1182                                \"Oshi no Ko\"         Doga Kobo   \n",
       "\n",
       "                     theme                        tags source  rating  year  \\\n",
       "342             Historical             Action, Fantasy  Manga     NaN  <NA>   \n",
       "345                Shounen             Comedy, Romance  Manga     NaN  <NA>   \n",
       "415             Historical                        None  Manga     NaN  <NA>   \n",
       "420                Shounen  Action, Adventure, Fantasy  Manga     NaN  <NA>   \n",
       "435                Shounen        Action, Supernatural  Manga     NaN  <NA>   \n",
       "466          Harem, School             Comedy, Romance  Manga     NaN  <NA>   \n",
       "579                Shounen  Action, Adventure, Fantasy  Manga     NaN  <NA>   \n",
       "1161   Parody, Super Power              Action, Comedy  Manga     NaN  <NA>   \n",
       "1182  Music, Reincarnation         Drama, Supernatural  Manga     NaN  <NA>   \n",
       "\n",
       "     demographic     status  eps  eps_avg_duration_in_min  rated_by  \n",
       "342      Shounen  Not Aired  NaN                      NaN    103000  \n",
       "345      Shounen  Not Aired  NaN                      NaN     98000  \n",
       "415      Shounen  Not Aired  NaN                      NaN     60000  \n",
       "420      Shounen  Not Aired  NaN                      NaN     56000  \n",
       "435      Shounen  Not Aired  NaN                      NaN     52000  \n",
       "466      Shounen  Not Aired  NaN                      NaN     40000  \n",
       "579      Shounen  Not Aired  NaN                      NaN     16000  \n",
       "1161      Seinen  Not Aired  NaN                      NaN     33000  \n",
       "1182      Seinen  Not Aired  NaN                      NaN     21000  "
      ]
     },
     "execution_count": 23,
     "metadata": {},
     "output_type": "execute_result"
    }
   ],
   "source": [
    "# Periksa missing value pada year\n",
    "anime.loc[anime['year'].isna()]"
   ]
  },
  {
   "attachments": {},
   "cell_type": "markdown",
   "metadata": {},
   "source": [
    "Setelah dilakukan pencarian ternyata missing value pada kolom `year` adalah anime yang belum rilis. Maka missing value akan diisi dengan value `2023`."
   ]
  },
  {
   "cell_type": "code",
   "execution_count": 24,
   "metadata": {},
   "outputs": [],
   "source": [
    "# missing value pada year diisi dengan value '2023'\n",
    "anime['year'].fillna(2023, inplace=True)"
   ]
  },
  {
   "cell_type": "code",
   "execution_count": 25,
   "metadata": {},
   "outputs": [
    {
     "name": "stdout",
     "output_type": "stream",
     "text": [
      "skewness rating :  -0.3623392677379087\n",
      "skewness spisode :  18.36460528180625\n",
      "skewness duration :  -3.2459270461974676\n"
     ]
    }
   ],
   "source": [
    "# Periksa sebaran data rating, eps, dan eps_avg_duration_in_min\n",
    "print('skewness rating : ', anime['rating'].skew())\n",
    "print('skewness spisode : ', anime['eps'].skew())\n",
    "print('skewness duration : ', anime['eps_avg_duration_in_min'].skew())"
   ]
  },
  {
   "attachments": {},
   "cell_type": "markdown",
   "metadata": {},
   "source": [
    "Dari nilai skewness dapat dilihat sebaran data `rating` cenderung normal sedangkan sebaran data `eps` dan `eps_avg_duration_in_min` tidak normal. Maka missing value `rating` akan diisi dengan mean sedangkan `eps` dan `eps_avg_duration_in_min` disi dengan median."
   ]
  },
  {
   "cell_type": "code",
   "execution_count": 26,
   "metadata": {},
   "outputs": [
    {
     "name": "stdout",
     "output_type": "stream",
     "text": [
      "mean rating :  7.345973705834018\n",
      "median eps :  13.0\n",
      "median duration :  24.0\n"
     ]
    }
   ],
   "source": [
    "# mencari nilai mean dan median untuk diisikan sebagai missing value\n",
    "print('mean rating : ', anime['rating'].mean())\n",
    "print('median eps : ', anime['eps'].median())\n",
    "print('median duration : ', anime['eps_avg_duration_in_min'].median())"
   ]
  },
  {
   "cell_type": "code",
   "execution_count": 27,
   "metadata": {},
   "outputs": [],
   "source": [
    "# Mengisi value ke missing value\n",
    "anime['rating'].fillna(7.35, inplace=True)\n",
    "anime['eps'].fillna(13.0, inplace=True)\n",
    "anime['eps_avg_duration_in_min'].fillna(24.0, inplace=True)"
   ]
  },
  {
   "cell_type": "code",
   "execution_count": 28,
   "metadata": {},
   "outputs": [
    {
     "data": {
      "text/plain": [
       "name                       0\n",
       "studio                     0\n",
       "theme                      0\n",
       "tags                       0\n",
       "source                     0\n",
       "rating                     0\n",
       "year                       0\n",
       "demographic                0\n",
       "status                     0\n",
       "eps                        0\n",
       "eps_avg_duration_in_min    0\n",
       "rated_by                   0\n",
       "dtype: int64"
      ]
     },
     "execution_count": 28,
     "metadata": {},
     "output_type": "execute_result"
    }
   ],
   "source": [
    "# Periksa kembali missing value\n",
    "anime.isnull().sum()"
   ]
  },
  {
   "cell_type": "code",
   "execution_count": 29,
   "metadata": {},
   "outputs": [
    {
     "data": {
      "text/html": [
       "<div>\n",
       "<style scoped>\n",
       "    .dataframe tbody tr th:only-of-type {\n",
       "        vertical-align: middle;\n",
       "    }\n",
       "\n",
       "    .dataframe tbody tr th {\n",
       "        vertical-align: top;\n",
       "    }\n",
       "\n",
       "    .dataframe thead th {\n",
       "        text-align: right;\n",
       "    }\n",
       "</style>\n",
       "<table border=\"1\" class=\"dataframe\">\n",
       "  <thead>\n",
       "    <tr style=\"text-align: right;\">\n",
       "      <th></th>\n",
       "      <th>name</th>\n",
       "      <th>studio</th>\n",
       "      <th>theme</th>\n",
       "      <th>tags</th>\n",
       "      <th>source</th>\n",
       "      <th>rating</th>\n",
       "      <th>year</th>\n",
       "      <th>demographic</th>\n",
       "      <th>status</th>\n",
       "      <th>eps</th>\n",
       "      <th>eps_avg_duration_in_min</th>\n",
       "      <th>rated_by</th>\n",
       "    </tr>\n",
       "  </thead>\n",
       "  <tbody>\n",
       "    <tr>\n",
       "      <th>0</th>\n",
       "      <td>Shingeki no Kyojin</td>\n",
       "      <td>Wit Studio</td>\n",
       "      <td>Gore, Military, Survival</td>\n",
       "      <td>Action, Drama</td>\n",
       "      <td>Manga</td>\n",
       "      <td>8.53</td>\n",
       "      <td>2013</td>\n",
       "      <td>Shounen</td>\n",
       "      <td>Finished</td>\n",
       "      <td>25.0</td>\n",
       "      <td>24.0</td>\n",
       "      <td>3500000</td>\n",
       "    </tr>\n",
       "    <tr>\n",
       "      <th>1</th>\n",
       "      <td>Death Note</td>\n",
       "      <td>Madhouse</td>\n",
       "      <td>Psychological</td>\n",
       "      <td>Supernatural, Suspense</td>\n",
       "      <td>Manga</td>\n",
       "      <td>8.62</td>\n",
       "      <td>2006</td>\n",
       "      <td>Shounen</td>\n",
       "      <td>Finished</td>\n",
       "      <td>37.0</td>\n",
       "      <td>23.0</td>\n",
       "      <td>3500000</td>\n",
       "    </tr>\n",
       "    <tr>\n",
       "      <th>2</th>\n",
       "      <td>Fullmetal Alchemist: Brotherhood</td>\n",
       "      <td>Bones</td>\n",
       "      <td>Military</td>\n",
       "      <td>Action, Adventure, Drama, Fantasy</td>\n",
       "      <td>Manga</td>\n",
       "      <td>9.13</td>\n",
       "      <td>2009</td>\n",
       "      <td>Shounen</td>\n",
       "      <td>Finished</td>\n",
       "      <td>64.0</td>\n",
       "      <td>24.0</td>\n",
       "      <td>3000000</td>\n",
       "    </tr>\n",
       "    <tr>\n",
       "      <th>3</th>\n",
       "      <td>Boku no Hero Academia</td>\n",
       "      <td>Bones</td>\n",
       "      <td>School, Super Power</td>\n",
       "      <td>Action</td>\n",
       "      <td>Manga</td>\n",
       "      <td>7.92</td>\n",
       "      <td>2016</td>\n",
       "      <td>Shounen</td>\n",
       "      <td>Finished</td>\n",
       "      <td>13.0</td>\n",
       "      <td>24.0</td>\n",
       "      <td>2700000</td>\n",
       "    </tr>\n",
       "    <tr>\n",
       "      <th>4</th>\n",
       "      <td>Naruto</td>\n",
       "      <td>Pierrot</td>\n",
       "      <td>Martial Arts</td>\n",
       "      <td>Action, Adventure, Fantasy</td>\n",
       "      <td>Manga</td>\n",
       "      <td>7.97</td>\n",
       "      <td>2002</td>\n",
       "      <td>Shounen</td>\n",
       "      <td>Finished</td>\n",
       "      <td>220.0</td>\n",
       "      <td>23.0</td>\n",
       "      <td>2500000</td>\n",
       "    </tr>\n",
       "    <tr>\n",
       "      <th>...</th>\n",
       "      <td>...</td>\n",
       "      <td>...</td>\n",
       "      <td>...</td>\n",
       "      <td>...</td>\n",
       "      <td>...</td>\n",
       "      <td>...</td>\n",
       "      <td>...</td>\n",
       "      <td>...</td>\n",
       "      <td>...</td>\n",
       "      <td>...</td>\n",
       "      <td>...</td>\n",
       "      <td>...</td>\n",
       "    </tr>\n",
       "    <tr>\n",
       "      <th>1689</th>\n",
       "      <td>B-Legend! Battle B-Daman</td>\n",
       "      <td>Nippon Animation</td>\n",
       "      <td>Strategy Game</td>\n",
       "      <td>Adventure, Fantasy</td>\n",
       "      <td>Manga</td>\n",
       "      <td>6.28</td>\n",
       "      <td>2004</td>\n",
       "      <td>Kids</td>\n",
       "      <td>Finished</td>\n",
       "      <td>52.0</td>\n",
       "      <td>22.0</td>\n",
       "      <td>13000</td>\n",
       "    </tr>\n",
       "    <tr>\n",
       "      <th>1690</th>\n",
       "      <td>Beyblade Burst Chouzetsu</td>\n",
       "      <td>OLM</td>\n",
       "      <td>Kids</td>\n",
       "      <td>Action, Adventure, Sci-Fi, Sports</td>\n",
       "      <td>Manga</td>\n",
       "      <td>6.45</td>\n",
       "      <td>2018</td>\n",
       "      <td>Kids</td>\n",
       "      <td>Finished</td>\n",
       "      <td>51.0</td>\n",
       "      <td>24.0</td>\n",
       "      <td>12000</td>\n",
       "    </tr>\n",
       "    <tr>\n",
       "      <th>1691</th>\n",
       "      <td>Gudetama</td>\n",
       "      <td>Gathering</td>\n",
       "      <td>Kids</td>\n",
       "      <td>Comedy, Gourmet</td>\n",
       "      <td>Original</td>\n",
       "      <td>7.03</td>\n",
       "      <td>2014</td>\n",
       "      <td>Kids</td>\n",
       "      <td>Airing</td>\n",
       "      <td>13.0</td>\n",
       "      <td>1.0</td>\n",
       "      <td>11000</td>\n",
       "    </tr>\n",
       "    <tr>\n",
       "      <th>1692</th>\n",
       "      <td>Furusato Saisei: Nippon no Mukashibanashi</td>\n",
       "      <td>Tomason</td>\n",
       "      <td>Historical</td>\n",
       "      <td>Supernatural</td>\n",
       "      <td>Other</td>\n",
       "      <td>6.97</td>\n",
       "      <td>2012</td>\n",
       "      <td>Kids</td>\n",
       "      <td>Finished</td>\n",
       "      <td>258.0</td>\n",
       "      <td>24.0</td>\n",
       "      <td>10000</td>\n",
       "    </tr>\n",
       "    <tr>\n",
       "      <th>1693</th>\n",
       "      <td>Bakusou Kyoudai Let's &amp; Go</td>\n",
       "      <td>Xebec</td>\n",
       "      <td>Racing</td>\n",
       "      <td>Adventure</td>\n",
       "      <td>Manga</td>\n",
       "      <td>6.83</td>\n",
       "      <td>1996</td>\n",
       "      <td>Kids</td>\n",
       "      <td>Finished</td>\n",
       "      <td>51.0</td>\n",
       "      <td>25.0</td>\n",
       "      <td>10000</td>\n",
       "    </tr>\n",
       "  </tbody>\n",
       "</table>\n",
       "<p>1248 rows × 12 columns</p>\n",
       "</div>"
      ],
      "text/plain": [
       "                                           name            studio  \\\n",
       "0                            Shingeki no Kyojin        Wit Studio   \n",
       "1                                    Death Note          Madhouse   \n",
       "2              Fullmetal Alchemist: Brotherhood             Bones   \n",
       "3                         Boku no Hero Academia             Bones   \n",
       "4                                        Naruto           Pierrot   \n",
       "...                                         ...               ...   \n",
       "1689                   B-Legend! Battle B-Daman  Nippon Animation   \n",
       "1690                   Beyblade Burst Chouzetsu               OLM   \n",
       "1691                                   Gudetama         Gathering   \n",
       "1692  Furusato Saisei: Nippon no Mukashibanashi           Tomason   \n",
       "1693                 Bakusou Kyoudai Let's & Go             Xebec   \n",
       "\n",
       "                         theme                               tags    source  \\\n",
       "0     Gore, Military, Survival                      Action, Drama     Manga   \n",
       "1                Psychological             Supernatural, Suspense     Manga   \n",
       "2                     Military  Action, Adventure, Drama, Fantasy     Manga   \n",
       "3          School, Super Power                             Action     Manga   \n",
       "4                 Martial Arts         Action, Adventure, Fantasy     Manga   \n",
       "...                        ...                                ...       ...   \n",
       "1689             Strategy Game                 Adventure, Fantasy     Manga   \n",
       "1690                      Kids  Action, Adventure, Sci-Fi, Sports     Manga   \n",
       "1691                      Kids                    Comedy, Gourmet  Original   \n",
       "1692                Historical                       Supernatural     Other   \n",
       "1693                    Racing                          Adventure     Manga   \n",
       "\n",
       "      rating  year demographic    status    eps  eps_avg_duration_in_min  \\\n",
       "0       8.53  2013     Shounen  Finished   25.0                     24.0   \n",
       "1       8.62  2006     Shounen  Finished   37.0                     23.0   \n",
       "2       9.13  2009     Shounen  Finished   64.0                     24.0   \n",
       "3       7.92  2016     Shounen  Finished   13.0                     24.0   \n",
       "4       7.97  2002     Shounen  Finished  220.0                     23.0   \n",
       "...      ...   ...         ...       ...    ...                      ...   \n",
       "1689    6.28  2004        Kids  Finished   52.0                     22.0   \n",
       "1690    6.45  2018        Kids  Finished   51.0                     24.0   \n",
       "1691    7.03  2014        Kids    Airing   13.0                      1.0   \n",
       "1692    6.97  2012        Kids  Finished  258.0                     24.0   \n",
       "1693    6.83  1996        Kids  Finished   51.0                     25.0   \n",
       "\n",
       "      rated_by  \n",
       "0      3500000  \n",
       "1      3500000  \n",
       "2      3000000  \n",
       "3      2700000  \n",
       "4      2500000  \n",
       "...        ...  \n",
       "1689     13000  \n",
       "1690     12000  \n",
       "1691     11000  \n",
       "1692     10000  \n",
       "1693     10000  \n",
       "\n",
       "[1248 rows x 12 columns]"
      ]
     },
     "execution_count": 29,
     "metadata": {},
     "output_type": "execute_result"
    }
   ],
   "source": [
    "anime"
   ]
  },
  {
   "cell_type": "code",
   "execution_count": 30,
   "metadata": {},
   "outputs": [],
   "source": [
    "# Ekspoprt clean data ke csv\n",
    "anime.to_csv('clean_anime_data.csv', index=False)"
   ]
  },
  {
   "attachments": {},
   "cell_type": "markdown",
   "metadata": {},
   "source": [
    "Sudah tidak ada missing value. Data sudah bisa dieksplorasi.\n",
    "\n",
    "---"
   ]
  },
  {
   "attachments": {},
   "cell_type": "markdown",
   "metadata": {},
   "source": [
    "# 5. Eksplorasi Data"
   ]
  },
  {
   "attachments": {},
   "cell_type": "markdown",
   "metadata": {},
   "source": [
    "## 1. Jumlah anime dari tahun ke tahun"
   ]
  },
  {
   "attachments": {},
   "cell_type": "markdown",
   "metadata": {},
   "source": [
    "Perkembangan jumlah anime diperiksa dari tahun ke tahun untuk melihat apakah produksi anime terus meningkat atau menurun."
   ]
  },
  {
   "cell_type": "code",
   "execution_count": 31,
   "metadata": {},
   "outputs": [
    {
     "data": {
      "image/png": "[encoded data removed]",
      "text/plain": [
       "<Figure size 640x480 with 1 Axes>"
      ]
     },
     "metadata": {},
     "output_type": "display_data"
    }
   ],
   "source": [
    "# Group anime berdasarkan tahun\n",
    "anime_count_year = anime.groupby(['year'])['name'].count()\n",
    "\n",
    "# Plot bar\n",
    "plt.bar(anime_count_year.index, anime_count_year.values)\n",
    "plt.xlabel('Year')\n",
    "plt.ylabel('Count')\n",
    "plt.title('Count of Anime by Year')\n",
    "plt.xticks(rotation=90)\n",
    "plt.show()"
   ]
  },
  {
   "attachments": {},
   "cell_type": "markdown",
   "metadata": {},
   "source": [
    "Dapat dilihat sebaran jumlah anime setiap tahun dari tahun 1963 samapai 2022 dan 2023 (belum release). Jumlah anime terlihat terus berkembang sampai puncak pada tahun 2014, setelah itu trend terlihat menurun sampai 2022. Mari dilihat dari segi popularitas apakah trendnya sama dengan jumlah anime."
   ]
  },
  {
   "cell_type": "code",
   "execution_count": 32,
   "metadata": {},
   "outputs": [
    {
     "data": {
      "image/png": "[encoded data removed]",
      "text/plain": [
       "<Figure size 640x480 with 1 Axes>"
      ]
     },
     "metadata": {},
     "output_type": "display_data"
    }
   ],
   "source": [
    "anime_popularity_year = anime.groupby(['year'])['rated_by'].sum()\n",
    "\n",
    "# Plot bar\n",
    "plt.bar(anime_popularity_year.index, anime_popularity_year.values)\n",
    "plt.xlabel('Year')\n",
    "plt.ylabel('Count')\n",
    "plt.title('Popularity of Anime by Year')\n",
    "plt.xticks(rotation=90)\n",
    "plt.show()"
   ]
  },
  {
   "attachments": {},
   "cell_type": "markdown",
   "metadata": {},
   "source": [
    "Trend dari segi jumlah anime setiap tahun dengan popularitas anime berdasarkan jumlah rating setiap tahun sama, yaitu meningkat hingga puncak tahun 2014 dan setelahnya menurun dengan ada peningkatan lagi tahun 2019."
   ]
  },
  {
   "attachments": {},
   "cell_type": "markdown",
   "metadata": {},
   "source": [
    "## 2. Peringkat Anime teratas"
   ]
  },
  {
   "attachments": {},
   "cell_type": "markdown",
   "metadata": {},
   "source": [
    "Peringkat anime ditampilkan untuk melihat anime mana saja yang paling populer dan memiliki rating terbaik."
   ]
  },
  {
   "cell_type": "code",
   "execution_count": 33,
   "metadata": {},
   "outputs": [
    {
     "data": {
      "text/plain": [
       "name\n",
       "Shingeki no Kyojin                  3500000\n",
       "Death Note                          3500000\n",
       "Fullmetal Alchemist: Brotherhood    3000000\n",
       "One Punch Man                       2900000\n",
       "Boku no Hero Academia               2700000\n",
       "Kimetsu no Yaiba                    2500000\n",
       "Tokyo Ghoul                         2500000\n",
       "Hunter x Hunter (2011)              2500000\n",
       "Naruto                              2500000\n",
       "Shingeki no Kyojin Season 2         2400000\n",
       "Name: rated_by, dtype: Int64"
      ]
     },
     "execution_count": 33,
     "metadata": {},
     "output_type": "execute_result"
    }
   ],
   "source": [
    "# Melihat top 10 Anime berdasarkan popularitas(jumlah rating)\n",
    "top10_anime = anime.groupby(['name'])['rated_by'].sum().sort_values(ascending=False).head(10)\n",
    "top10_anime"
   ]
  },
  {
   "cell_type": "code",
   "execution_count": 34,
   "metadata": {},
   "outputs": [
    {
     "data": {
      "image/png": "[encoded data removed]",
      "text/plain": [
       "<Figure size 640x480 with 1 Axes>"
      ]
     },
     "metadata": {},
     "output_type": "display_data"
    }
   ],
   "source": [
    "# Plot top 10 anime berdasarkan popularitas(jumlah rating)\n",
    "\n",
    "# Membuat grafik bar horizontal\n",
    "sns.barplot(x=top10_anime.values, y=top10_anime.index, palette=\"husl\")\n",
    "\n",
    "# set label dan titel\n",
    "plt.title('Top 10 Anime by Sum of Ratings')\n",
    "plt.xlabel('Unique Ratings')\n",
    "plt.ylabel('Anime Name')\n",
    "\n",
    "# menunjukan plot\n",
    "plt.show()"
   ]
  },
  {
   "attachments": {},
   "cell_type": "markdown",
   "metadata": {},
   "source": [
    "Berdasarkan popularitasnya yang digambarkan dengan jumlah rating, anime `Shingeki no Kyojin` dan `Death Note` menempati peringkat teratas dengan jumlah rating 3500000. Sebagian besar anime yang tercantum pada grafik diatas menunjukan karakteristik yang mirip, yaitu target demografi `shounen` dan memiliki tag `action`."
   ]
  },
  {
   "cell_type": "code",
   "execution_count": 35,
   "metadata": {},
   "outputs": [
    {
     "data": {
      "text/plain": [
       "name\n",
       "Fullmetal Alchemist: Brotherhood              9.13\n",
       "Kaguya-sama wa Kokurasetai: Ultra Romantic    9.12\n",
       "Gintama°                                      9.08\n",
       "Shingeki no Kyojin Season 3 Part 2            9.07\n",
       "Gintama'                                      9.05\n",
       "Hunter x Hunter (2011)                        9.04\n",
       "Gintama': Enchousen                           9.04\n",
       "Fruits Basket: The Final                      9.03\n",
       "Gintama.                                      8.99\n",
       "3-gatsu no Lion 2nd Season                    8.95\n",
       "Name: rating, dtype: float64"
      ]
     },
     "execution_count": 35,
     "metadata": {},
     "output_type": "execute_result"
    }
   ],
   "source": [
    "# Melihat top 10 Anime berdasarkan besaran rating\n",
    "top10_rated_anime = anime.groupby(['name'])['rating'].mean().sort_values(ascending=False).head(10)\n",
    "top10_rated_anime"
   ]
  },
  {
   "cell_type": "code",
   "execution_count": 36,
   "metadata": {},
   "outputs": [
    {
     "data": {
      "image/png": "[encoded data removed]",
      "text/plain": [
       "<Figure size 640x480 with 1 Axes>"
      ]
     },
     "metadata": {},
     "output_type": "display_data"
    }
   ],
   "source": [
    "# Plot top 10 anime berdasarkan popularitas(jumlah rating)\n",
    "\n",
    "# Membuat grafik bar horizontal\n",
    "ax = sns.barplot(x=top10_rated_anime.values, y=top10_rated_anime.index, palette=\"viridis\")\n",
    "\n",
    "# set label dan titel\n",
    "plt.title('Top 10 Anime by Sum of Ratings')\n",
    "plt.xlabel('Ratings')\n",
    "plt.ylabel('Anime Name')\n",
    "\n",
    "# Menunjukan nilai rating pada plot\n",
    "for i, v in enumerate(top10_rated_anime.values):\n",
    "    ax.text(v + 2 , i, str(v), color='black', ha='right')\n",
    "\n",
    "# menunjukan plot\n",
    "plt.show()"
   ]
  },
  {
   "attachments": {},
   "cell_type": "markdown",
   "metadata": {},
   "source": [
    "Jika ditinjau berdasarkan tingkat nilai rating hasil top 10 anime sangat berbeda. sebelumnya target demografi didominasi `shounen` dan sekarang terdapat judul anime dengan target demografi `shoujo`, dan `seinen`. Selain itu anime dengan tag `Comedy` juga ikut masuk dalam list ini."
   ]
  },
  {
   "attachments": {},
   "cell_type": "markdown",
   "metadata": {},
   "source": [
    "Berdasarkan status tayang kita juga dapat melihat top anime yang paling diantisipasi."
   ]
  },
  {
   "cell_type": "code",
   "execution_count": 37,
   "metadata": {},
   "outputs": [
    {
     "data": {
      "text/plain": [
       "name\n",
       "Chainsaw Man                                           482000\n",
       "Boku no Hero Academia 6th Season                       211000\n",
       "Spy x Family Part 2                                    198000\n",
       "Shingeki no Kyojin: The Final Season - Kanketsu-hen    178000\n",
       "Bleach: Sennen Kessen-hen                              147000\n",
       "Vinland Saga Season 2                                  133000\n",
       "Dr. Stone: New World                                   127000\n",
       "Fumetsu no Anata e 2nd Season                          121000\n",
       "Kimetsu no Yaiba: Katanakaji no Sato-hen               103000\n",
       "Tonikaku Kawaii 2nd Season                              98000\n",
       "Name: rated_by, dtype: Int64"
      ]
     },
     "execution_count": 37,
     "metadata": {},
     "output_type": "execute_result"
    }
   ],
   "source": [
    "# query anime yang belum tayang\n",
    "not_aired = anime.query(\"status == 'Not Aired'\")\n",
    "# Melihat top 10 anticipated anime\n",
    "anticipated_anime = not_aired.groupby(['name'])['rated_by'].sum().sort_values(ascending=False).head(10)\n",
    "anticipated_anime"
   ]
  },
  {
   "cell_type": "code",
   "execution_count": 38,
   "metadata": {},
   "outputs": [
    {
     "data": {
      "image/png": "[encoded data removed]",
      "text/plain": [
       "<Figure size 640x480 with 1 Axes>"
      ]
     },
     "metadata": {},
     "output_type": "display_data"
    }
   ],
   "source": [
    "# Plot top 10 anime berdasarkan popularitas(jumlah rating)\n",
    "\n",
    "# Membuat grafik bar horizontal\n",
    "sns.barplot(x=anticipated_anime.values, y=anticipated_anime.index, palette=\"Spectral\")\n",
    "\n",
    "# set label dan titel\n",
    "plt.title('Top 10 Anticipated Anime')\n",
    "plt.xlabel('Unique Ratings')\n",
    "plt.ylabel('Anime Name')\n",
    "\n",
    "# menunjukan plot\n",
    "plt.show()"
   ]
  },
  {
   "attachments": {},
   "cell_type": "markdown",
   "metadata": {},
   "source": [
    "Anime `Chainsaw Man` merupakan anime yang paling diantisipasi. "
   ]
  },
  {
   "attachments": {},
   "cell_type": "markdown",
   "metadata": {},
   "source": [
    "## 3. Peringkat Studio Teratas"
   ]
  },
  {
   "attachments": {},
   "cell_type": "markdown",
   "metadata": {},
   "source": [
    "Peringkat studio juga perlu dianalisis untuk mengetahui studio penghasil anime terbaik dan terbanyak."
   ]
  },
  {
   "cell_type": "code",
   "execution_count": 39,
   "metadata": {},
   "outputs": [
    {
     "data": {
      "text/plain": [
       "studio\n",
       "Bones                26162000\n",
       "Madhouse             24832000\n",
       "A-1 Pictures         22934000\n",
       "Pierrot              19350000\n",
       "J.C.Staff            15622000\n",
       "Wit Studio           14105000\n",
       "Production I.G       13344000\n",
       "Toei Animation       12000000\n",
       "MAPPA                11604000\n",
       "TMS Entertainment     9977000\n",
       "Name: rated_by, dtype: Int64"
      ]
     },
     "execution_count": 39,
     "metadata": {},
     "output_type": "execute_result"
    }
   ],
   "source": [
    "# Melihat top 10 studio berdasarkan popularitas(jumlah rating)\n",
    "top10_studio = anime.groupby(['studio'])['rated_by'].sum().sort_values(ascending=False).head(10)\n",
    "top10_studio"
   ]
  },
  {
   "cell_type": "code",
   "execution_count": 40,
   "metadata": {},
   "outputs": [
    {
     "data": {
      "image/png": "[encoded data removed]",
      "text/plain": [
       "<Figure size 640x480 with 1 Axes>"
      ]
     },
     "metadata": {},
     "output_type": "display_data"
    }
   ],
   "source": [
    "# Plot top 10 studio berdasarkan popularitas(jumlah rating)\n",
    "\n",
    "# Membuat grafik bar horizontal\n",
    "sns.barplot(x=top10_studio.values, y=top10_studio.index, palette=\"husl\")\n",
    "\n",
    "# set label dan titel\n",
    "plt.title('Top 10 studio by Sum of Ratings')\n",
    "plt.xlabel('Unique Ratings')\n",
    "plt.ylabel('studio Name')\n",
    "\n",
    "# menunjukan plot\n",
    "plt.show()"
   ]
  },
  {
   "attachments": {},
   "cell_type": "markdown",
   "metadata": {},
   "source": [
    "Studio-studio yang ditampilkan pada tabel dan grafik diatas adalah studio yang menghasilkan anime paling populer (berdasarkan jumlah rating). Studio `Bones`, `Madhouse`, dan `A-1 Pictures` menghasilkan anime dengan rating terbanyak dimana masing-masing sudah mengakumulasi lebih dari 20 juta rating."
   ]
  },
  {
   "attachments": {},
   "cell_type": "markdown",
   "metadata": {},
   "source": [
    "Studio dengan jumlah anime terbanyak kemudian dilihat."
   ]
  },
  {
   "cell_type": "code",
   "execution_count": 41,
   "metadata": {},
   "outputs": [
    {
     "data": {
      "text/plain": [
       "studio\n",
       "Toei Animation       86\n",
       "Madhouse             68\n",
       "J.C.Staff            62\n",
       "Studio Deen          61\n",
       "TMS Entertainment    45\n",
       "Pierrot              45\n",
       "A-1 Pictures         36\n",
       "OLM                  36\n",
       "Bones                30\n",
       "Production I.G       28\n",
       "Name: name, dtype: int64"
      ]
     },
     "execution_count": 41,
     "metadata": {},
     "output_type": "execute_result"
    }
   ],
   "source": [
    "# Melihat top 10 studio berdasarkan jumlah anime yang diproduksi\n",
    "top10_produce_studio = anime.groupby(['studio'])['name'].count().sort_values(ascending=False).head(10)\n",
    "top10_produce_studio"
   ]
  },
  {
   "cell_type": "code",
   "execution_count": 42,
   "metadata": {},
   "outputs": [
    {
     "data": {
      "image/png": "[encoded data removed]",
      "text/plain": [
       "<Figure size 640x480 with 1 Axes>"
      ]
     },
     "metadata": {},
     "output_type": "display_data"
    }
   ],
   "source": [
    "# Plot top 10 studio berdasarkan jumlah anime yang diproduksi\n",
    "\n",
    "# Membuat grafik bar horizontal\n",
    "sns.barplot(x=top10_produce_studio.values, y=top10_produce_studio.index, palette=\"husl\")\n",
    "\n",
    "# set label dan titel\n",
    "plt.title('Top 10 studio by anime count')\n",
    "plt.xlabel('Unique Ratings')\n",
    "plt.ylabel('studio Name')\n",
    "\n",
    "# menunjukan plot\n",
    "plt.show()"
   ]
  },
  {
   "attachments": {},
   "cell_type": "markdown",
   "metadata": {},
   "source": [
    "Toei animation merupakan studio yang menghasilkan anime terbanyak. Toei animation sudah berdiri sejak tahun 1948 dan telah mencetak banyak sekali anime populer, diantaranya Dragon Ball dan One Piece."
   ]
  },
  {
   "attachments": {},
   "cell_type": "markdown",
   "metadata": {},
   "source": [
    "## 4. Tema dan tag anime populer\n",
    "\n",
    "Pada bagian ini dilihat apa tema dan tag yang paling banyak jumlah animenya.\n",
    "\n",
    "Dalam satu anime bisa memiliki lebih dari satu tema dan tag, maka untuk melihat satu-satu data tersebut sebelumnya dilakukan split menjadi value yang berbeda."
   ]
  },
  {
   "cell_type": "code",
   "execution_count": 43,
   "metadata": {},
   "outputs": [
    {
     "data": {
      "text/html": [
       "<div>\n",
       "<style scoped>\n",
       "    .dataframe tbody tr th:only-of-type {\n",
       "        vertical-align: middle;\n",
       "    }\n",
       "\n",
       "    .dataframe tbody tr th {\n",
       "        vertical-align: top;\n",
       "    }\n",
       "\n",
       "    .dataframe thead th {\n",
       "        text-align: right;\n",
       "    }\n",
       "</style>\n",
       "<table border=\"1\" class=\"dataframe\">\n",
       "  <thead>\n",
       "    <tr style=\"text-align: right;\">\n",
       "      <th></th>\n",
       "      <th>0</th>\n",
       "      <th>1</th>\n",
       "      <th>2</th>\n",
       "      <th>3</th>\n",
       "      <th>4</th>\n",
       "    </tr>\n",
       "  </thead>\n",
       "  <tbody>\n",
       "    <tr>\n",
       "      <th>0</th>\n",
       "      <td>Gore</td>\n",
       "      <td>Military</td>\n",
       "      <td>Survival</td>\n",
       "      <td>&lt;NA&gt;</td>\n",
       "      <td>&lt;NA&gt;</td>\n",
       "    </tr>\n",
       "    <tr>\n",
       "      <th>1</th>\n",
       "      <td>Psychological</td>\n",
       "      <td>&lt;NA&gt;</td>\n",
       "      <td>&lt;NA&gt;</td>\n",
       "      <td>&lt;NA&gt;</td>\n",
       "      <td>&lt;NA&gt;</td>\n",
       "    </tr>\n",
       "    <tr>\n",
       "      <th>2</th>\n",
       "      <td>Military</td>\n",
       "      <td>&lt;NA&gt;</td>\n",
       "      <td>&lt;NA&gt;</td>\n",
       "      <td>&lt;NA&gt;</td>\n",
       "      <td>&lt;NA&gt;</td>\n",
       "    </tr>\n",
       "    <tr>\n",
       "      <th>3</th>\n",
       "      <td>School</td>\n",
       "      <td>Super Power</td>\n",
       "      <td>&lt;NA&gt;</td>\n",
       "      <td>&lt;NA&gt;</td>\n",
       "      <td>&lt;NA&gt;</td>\n",
       "    </tr>\n",
       "    <tr>\n",
       "      <th>4</th>\n",
       "      <td>Martial Arts</td>\n",
       "      <td>&lt;NA&gt;</td>\n",
       "      <td>&lt;NA&gt;</td>\n",
       "      <td>&lt;NA&gt;</td>\n",
       "      <td>&lt;NA&gt;</td>\n",
       "    </tr>\n",
       "    <tr>\n",
       "      <th>...</th>\n",
       "      <td>...</td>\n",
       "      <td>...</td>\n",
       "      <td>...</td>\n",
       "      <td>...</td>\n",
       "      <td>...</td>\n",
       "    </tr>\n",
       "    <tr>\n",
       "      <th>1689</th>\n",
       "      <td>Strategy Game</td>\n",
       "      <td>&lt;NA&gt;</td>\n",
       "      <td>&lt;NA&gt;</td>\n",
       "      <td>&lt;NA&gt;</td>\n",
       "      <td>&lt;NA&gt;</td>\n",
       "    </tr>\n",
       "    <tr>\n",
       "      <th>1690</th>\n",
       "      <td>Kids</td>\n",
       "      <td>&lt;NA&gt;</td>\n",
       "      <td>&lt;NA&gt;</td>\n",
       "      <td>&lt;NA&gt;</td>\n",
       "      <td>&lt;NA&gt;</td>\n",
       "    </tr>\n",
       "    <tr>\n",
       "      <th>1691</th>\n",
       "      <td>Kids</td>\n",
       "      <td>&lt;NA&gt;</td>\n",
       "      <td>&lt;NA&gt;</td>\n",
       "      <td>&lt;NA&gt;</td>\n",
       "      <td>&lt;NA&gt;</td>\n",
       "    </tr>\n",
       "    <tr>\n",
       "      <th>1692</th>\n",
       "      <td>Historical</td>\n",
       "      <td>&lt;NA&gt;</td>\n",
       "      <td>&lt;NA&gt;</td>\n",
       "      <td>&lt;NA&gt;</td>\n",
       "      <td>&lt;NA&gt;</td>\n",
       "    </tr>\n",
       "    <tr>\n",
       "      <th>1693</th>\n",
       "      <td>Racing</td>\n",
       "      <td>&lt;NA&gt;</td>\n",
       "      <td>&lt;NA&gt;</td>\n",
       "      <td>&lt;NA&gt;</td>\n",
       "      <td>&lt;NA&gt;</td>\n",
       "    </tr>\n",
       "  </tbody>\n",
       "</table>\n",
       "<p>1248 rows × 5 columns</p>\n",
       "</div>"
      ],
      "text/plain": [
       "                  0            1         2     3     4\n",
       "0              Gore     Military  Survival  <NA>  <NA>\n",
       "1     Psychological         <NA>      <NA>  <NA>  <NA>\n",
       "2          Military         <NA>      <NA>  <NA>  <NA>\n",
       "3            School  Super Power      <NA>  <NA>  <NA>\n",
       "4      Martial Arts         <NA>      <NA>  <NA>  <NA>\n",
       "...             ...          ...       ...   ...   ...\n",
       "1689  Strategy Game         <NA>      <NA>  <NA>  <NA>\n",
       "1690           Kids         <NA>      <NA>  <NA>  <NA>\n",
       "1691           Kids         <NA>      <NA>  <NA>  <NA>\n",
       "1692     Historical         <NA>      <NA>  <NA>  <NA>\n",
       "1693         Racing         <NA>      <NA>  <NA>  <NA>\n",
       "\n",
       "[1248 rows x 5 columns]"
      ]
     },
     "execution_count": 43,
     "metadata": {},
     "output_type": "execute_result"
    }
   ],
   "source": [
    "# Split data tema\n",
    "themes = pd.Series(data= anime['theme'], dtype=\"string\").str.split(\", \",expand=True)\n",
    "themes"
   ]
  },
  {
   "attachments": {},
   "cell_type": "markdown",
   "metadata": {},
   "source": [
    "Bisa dilihat dalam satu anime bisa terdapat sampai 4 tema."
   ]
  },
  {
   "cell_type": "code",
   "execution_count": 44,
   "metadata": {},
   "outputs": [
    {
     "data": {
      "text/plain": [
       "School           314\n",
       "Shounen          145\n",
       "Historical       103\n",
       "Mythology         82\n",
       "Super Power       77\n",
       "Mecha             60\n",
       "Team Sports       56\n",
       "Psychological     56\n",
       "Harem             56\n",
       "Iyashikei         53\n",
       "Adult Cast        50\n",
       "Military          45\n",
       "Seinen            43\n",
       "Music             42\n",
       "Martial Arts      41\n",
       "Gag Humor         39\n",
       "Strategy Game     39\n",
       "Shoujo            35\n",
       "Mahou Shoujo      34\n",
       "Gore              33\n",
       "dtype: int64"
      ]
     },
     "execution_count": 44,
     "metadata": {},
     "output_type": "execute_result"
    }
   ],
   "source": [
    "# Menghitung jumlah value tema\n",
    "themes_count = pd.DataFrame(data=np.reshape(themes.to_numpy(),themes.size)).dropna().value_counts()\n",
    "themes_count.head(20)"
   ]
  },
  {
   "cell_type": "code",
   "execution_count": 45,
   "metadata": {},
   "outputs": [
    {
     "data": {
      "image/png": "[encoded data removed]",
      "text/plain": [
       "<Figure size 800x600 with 1 Axes>"
      ]
     },
     "metadata": {},
     "output_type": "display_data"
    }
   ],
   "source": [
    "# Ekstrak tema teratas dan kelompokkan sisanya sebagai \"others\"\n",
    "top_12_themes = themes_count.head(12)\n",
    "others_count = themes_count.iloc[12:].sum()\n",
    "top_12_themes['Others'] = others_count\n",
    "\n",
    "# Membuat canvas pie chart\n",
    "plt.figure(figsize=(8, 6))\n",
    "colors = sns.color_palette(\"tab20\") \n",
    "sns.set_style(\"whitegrid\")\n",
    "\n",
    "# Membuat pie chart\n",
    "plt.pie(\n",
    "    top_12_themes.values, \n",
    "    labels=top_12_themes.index,\n",
    "    colors=colors,\n",
    "    autopct='%1.1f%%',\n",
    "    startangle=90\n",
    ")\n",
    "\n",
    "plt.title(\"Themes\")\n",
    "plt.axis('equal')\n",
    "plt.show()"
   ]
  },
  {
   "attachments": {},
   "cell_type": "markdown",
   "metadata": {},
   "source": [
    "Dapat dilihat anime dengan tema kehidupan sekolah `School` paling populer diantara yang lain. Diikuti dengan `Shounen`, `Historical`, `Mythology`, dan `Super Power` yang menempati 5 tema teratas."
   ]
  },
  {
   "attachments": {},
   "cell_type": "markdown",
   "metadata": {},
   "source": [
    "Dilakukan hal yang sama dengan tema untuk variabel tags."
   ]
  },
  {
   "cell_type": "code",
   "execution_count": 46,
   "metadata": {},
   "outputs": [
    {
     "data": {
      "text/html": [
       "<div>\n",
       "<style scoped>\n",
       "    .dataframe tbody tr th:only-of-type {\n",
       "        vertical-align: middle;\n",
       "    }\n",
       "\n",
       "    .dataframe tbody tr th {\n",
       "        vertical-align: top;\n",
       "    }\n",
       "\n",
       "    .dataframe thead th {\n",
       "        text-align: right;\n",
       "    }\n",
       "</style>\n",
       "<table border=\"1\" class=\"dataframe\">\n",
       "  <thead>\n",
       "    <tr style=\"text-align: right;\">\n",
       "      <th></th>\n",
       "      <th>0</th>\n",
       "      <th>1</th>\n",
       "      <th>2</th>\n",
       "      <th>3</th>\n",
       "      <th>4</th>\n",
       "      <th>5</th>\n",
       "      <th>6</th>\n",
       "      <th>7</th>\n",
       "    </tr>\n",
       "  </thead>\n",
       "  <tbody>\n",
       "    <tr>\n",
       "      <th>0</th>\n",
       "      <td>Action</td>\n",
       "      <td>Drama</td>\n",
       "      <td>&lt;NA&gt;</td>\n",
       "      <td>&lt;NA&gt;</td>\n",
       "      <td>&lt;NA&gt;</td>\n",
       "      <td>&lt;NA&gt;</td>\n",
       "      <td>&lt;NA&gt;</td>\n",
       "      <td>&lt;NA&gt;</td>\n",
       "    </tr>\n",
       "    <tr>\n",
       "      <th>1</th>\n",
       "      <td>Supernatural</td>\n",
       "      <td>Suspense</td>\n",
       "      <td>&lt;NA&gt;</td>\n",
       "      <td>&lt;NA&gt;</td>\n",
       "      <td>&lt;NA&gt;</td>\n",
       "      <td>&lt;NA&gt;</td>\n",
       "      <td>&lt;NA&gt;</td>\n",
       "      <td>&lt;NA&gt;</td>\n",
       "    </tr>\n",
       "    <tr>\n",
       "      <th>2</th>\n",
       "      <td>Action</td>\n",
       "      <td>Adventure</td>\n",
       "      <td>Drama</td>\n",
       "      <td>Fantasy</td>\n",
       "      <td>&lt;NA&gt;</td>\n",
       "      <td>&lt;NA&gt;</td>\n",
       "      <td>&lt;NA&gt;</td>\n",
       "      <td>&lt;NA&gt;</td>\n",
       "    </tr>\n",
       "    <tr>\n",
       "      <th>3</th>\n",
       "      <td>Action</td>\n",
       "      <td>&lt;NA&gt;</td>\n",
       "      <td>&lt;NA&gt;</td>\n",
       "      <td>&lt;NA&gt;</td>\n",
       "      <td>&lt;NA&gt;</td>\n",
       "      <td>&lt;NA&gt;</td>\n",
       "      <td>&lt;NA&gt;</td>\n",
       "      <td>&lt;NA&gt;</td>\n",
       "    </tr>\n",
       "    <tr>\n",
       "      <th>4</th>\n",
       "      <td>Action</td>\n",
       "      <td>Adventure</td>\n",
       "      <td>Fantasy</td>\n",
       "      <td>&lt;NA&gt;</td>\n",
       "      <td>&lt;NA&gt;</td>\n",
       "      <td>&lt;NA&gt;</td>\n",
       "      <td>&lt;NA&gt;</td>\n",
       "      <td>&lt;NA&gt;</td>\n",
       "    </tr>\n",
       "    <tr>\n",
       "      <th>...</th>\n",
       "      <td>...</td>\n",
       "      <td>...</td>\n",
       "      <td>...</td>\n",
       "      <td>...</td>\n",
       "      <td>...</td>\n",
       "      <td>...</td>\n",
       "      <td>...</td>\n",
       "      <td>...</td>\n",
       "    </tr>\n",
       "    <tr>\n",
       "      <th>1689</th>\n",
       "      <td>Adventure</td>\n",
       "      <td>Fantasy</td>\n",
       "      <td>&lt;NA&gt;</td>\n",
       "      <td>&lt;NA&gt;</td>\n",
       "      <td>&lt;NA&gt;</td>\n",
       "      <td>&lt;NA&gt;</td>\n",
       "      <td>&lt;NA&gt;</td>\n",
       "      <td>&lt;NA&gt;</td>\n",
       "    </tr>\n",
       "    <tr>\n",
       "      <th>1690</th>\n",
       "      <td>Action</td>\n",
       "      <td>Adventure</td>\n",
       "      <td>Sci-Fi</td>\n",
       "      <td>Sports</td>\n",
       "      <td>&lt;NA&gt;</td>\n",
       "      <td>&lt;NA&gt;</td>\n",
       "      <td>&lt;NA&gt;</td>\n",
       "      <td>&lt;NA&gt;</td>\n",
       "    </tr>\n",
       "    <tr>\n",
       "      <th>1691</th>\n",
       "      <td>Comedy</td>\n",
       "      <td>Gourmet</td>\n",
       "      <td>&lt;NA&gt;</td>\n",
       "      <td>&lt;NA&gt;</td>\n",
       "      <td>&lt;NA&gt;</td>\n",
       "      <td>&lt;NA&gt;</td>\n",
       "      <td>&lt;NA&gt;</td>\n",
       "      <td>&lt;NA&gt;</td>\n",
       "    </tr>\n",
       "    <tr>\n",
       "      <th>1692</th>\n",
       "      <td>Supernatural</td>\n",
       "      <td>&lt;NA&gt;</td>\n",
       "      <td>&lt;NA&gt;</td>\n",
       "      <td>&lt;NA&gt;</td>\n",
       "      <td>&lt;NA&gt;</td>\n",
       "      <td>&lt;NA&gt;</td>\n",
       "      <td>&lt;NA&gt;</td>\n",
       "      <td>&lt;NA&gt;</td>\n",
       "    </tr>\n",
       "    <tr>\n",
       "      <th>1693</th>\n",
       "      <td>Adventure</td>\n",
       "      <td>&lt;NA&gt;</td>\n",
       "      <td>&lt;NA&gt;</td>\n",
       "      <td>&lt;NA&gt;</td>\n",
       "      <td>&lt;NA&gt;</td>\n",
       "      <td>&lt;NA&gt;</td>\n",
       "      <td>&lt;NA&gt;</td>\n",
       "      <td>&lt;NA&gt;</td>\n",
       "    </tr>\n",
       "  </tbody>\n",
       "</table>\n",
       "<p>1248 rows × 8 columns</p>\n",
       "</div>"
      ],
      "text/plain": [
       "                 0          1        2        3     4     5     6     7\n",
       "0           Action      Drama     <NA>     <NA>  <NA>  <NA>  <NA>  <NA>\n",
       "1     Supernatural   Suspense     <NA>     <NA>  <NA>  <NA>  <NA>  <NA>\n",
       "2           Action  Adventure    Drama  Fantasy  <NA>  <NA>  <NA>  <NA>\n",
       "3           Action       <NA>     <NA>     <NA>  <NA>  <NA>  <NA>  <NA>\n",
       "4           Action  Adventure  Fantasy     <NA>  <NA>  <NA>  <NA>  <NA>\n",
       "...            ...        ...      ...      ...   ...   ...   ...   ...\n",
       "1689     Adventure    Fantasy     <NA>     <NA>  <NA>  <NA>  <NA>  <NA>\n",
       "1690        Action  Adventure   Sci-Fi   Sports  <NA>  <NA>  <NA>  <NA>\n",
       "1691        Comedy    Gourmet     <NA>     <NA>  <NA>  <NA>  <NA>  <NA>\n",
       "1692  Supernatural       <NA>     <NA>     <NA>  <NA>  <NA>  <NA>  <NA>\n",
       "1693     Adventure       <NA>     <NA>     <NA>  <NA>  <NA>  <NA>  <NA>\n",
       "\n",
       "[1248 rows x 8 columns]"
      ]
     },
     "execution_count": 46,
     "metadata": {},
     "output_type": "execute_result"
    }
   ],
   "source": [
    "# Split data tags\n",
    "split_tags = pd.Series(data=anime['tags'],dtype='string').str.split(', ', expand=True)\n",
    "split_tags"
   ]
  },
  {
   "cell_type": "code",
   "execution_count": 47,
   "metadata": {},
   "outputs": [
    {
     "data": {
      "text/plain": [
       "Comedy          634\n",
       "Action          450\n",
       "Romance         310\n",
       "Drama           309\n",
       "Fantasy         298\n",
       "Adventure       271\n",
       "Supernatural    237\n",
       "Slice           194\n",
       "Life            194\n",
       "of              194\n",
       "Sci-Fi          177\n",
       "Sports          106\n",
       "Mystery          99\n",
       "Ecchi            97\n",
       "Horror           38\n",
       "Gourmet          26\n",
       "Suspense         22\n",
       "Love             18\n",
       "Girls            12\n",
       "None             12\n",
       "dtype: int64"
      ]
     },
     "execution_count": 47,
     "metadata": {},
     "output_type": "execute_result"
    }
   ],
   "source": [
    "# Menghitung jumlah value tags\n",
    "tags_count = pd.DataFrame(data=np.reshape(split_tags.to_numpy(),split_tags.size)).dropna().value_counts()\n",
    "tags_count.head(20)"
   ]
  },
  {
   "cell_type": "code",
   "execution_count": 48,
   "metadata": {},
   "outputs": [
    {
     "data": {
      "image/png": "[encoded data removed]",
      "text/plain": [
       "<Figure size 800x600 with 1 Axes>"
      ]
     },
     "metadata": {},
     "output_type": "display_data"
    }
   ],
   "source": [
    "# Ekstrak 10 tags teratas dan kelompokkan sisanya sebagai \"others\"\n",
    "top_tags = tags_count.head(10)\n",
    "others_count = tags_count.iloc[10:].sum()\n",
    "top_tags['Others'] = others_count\n",
    "\n",
    "# Membuat canvas pie chart\n",
    "plt.figure(figsize=(8, 6))\n",
    "colors = sns.color_palette(\"tab20\") \n",
    "sns.set_style(\"whitegrid\")\n",
    "\n",
    "# Membuat pie chart\n",
    "plt.pie(\n",
    "    top_tags.values, \n",
    "    labels=top_tags.index,\n",
    "    colors=colors,\n",
    "    autopct='%1.1f%%',\n",
    "    startangle=90\n",
    ")\n",
    "\n",
    "plt.title(\"Tags\")\n",
    "plt.axis('equal')\n",
    "plt.show()"
   ]
  },
  {
   "attachments": {},
   "cell_type": "markdown",
   "metadata": {},
   "source": [
    "Tag dengan jumlah anime terbanyak adalah Comedy, salah satu anime dengan tag comedy terpopuler adalah gintama. Tag terpopuler selanjutanya diikuti oleh action, romance, darama, dan fantasy."
   ]
  },
  {
   "attachments": {},
   "cell_type": "markdown",
   "metadata": {},
   "source": [
    "Setelah mengetahui tema dan tag yang populer, kemuudian dilihat target audiens dari anime-anime yang ada."
   ]
  },
  {
   "attachments": {},
   "cell_type": "markdown",
   "metadata": {},
   "source": [
    "## 5. Central Tendency untuk setiap demografi"
   ]
  },
  {
   "attachments": {},
   "cell_type": "markdown",
   "metadata": {},
   "source": [
    "Pada bagian ini target audiens ditinjau"
   ]
  },
  {
   "cell_type": "code",
   "execution_count": 49,
   "metadata": {},
   "outputs": [
    {
     "data": {
      "text/plain": [
       "array(['Shounen', 'Seinen', 'Shoujo', 'Josei', 'Kids'], dtype=object)"
      ]
     },
     "execution_count": 49,
     "metadata": {},
     "output_type": "execute_result"
    }
   ],
   "source": [
    "# Melihat values demografi\n",
    "anime['demographic'].unique()"
   ]
  },
  {
   "attachments": {},
   "cell_type": "markdown",
   "metadata": {},
   "source": [
    "Demografi dalam anime dibagi menjadi 5 yaitu :\n",
    "- Shounen   : target audiens laki-laki muda\n",
    "- Seinen    : target audiens dewasa\n",
    "- Shoujo    : target audiens perempuan muda\n",
    "- Josei     : target audiens perempuan dewasa\n",
    "- Kids      : target audiens anak-anak\n",
    "\n",
    "Kelima demografi tersebut akan dilihat central tendency-nya (mean, median, modus) terhadap variabel ratings, popularitas (berdasarkan rated_by), durasi, dan jumlah episode."
   ]
  },
  {
   "cell_type": "code",
   "execution_count": 50,
   "metadata": {},
   "outputs": [
    {
     "data": {
      "text/plain": [
       "0    Shounen\n",
       "Name: demographic, dtype: object"
      ]
     },
     "execution_count": 50,
     "metadata": {},
     "output_type": "execute_result"
    }
   ],
   "source": [
    "# Demografi dengan anime terbanyak\n",
    "anime['demographic'].mode()"
   ]
  },
  {
   "cell_type": "code",
   "execution_count": 51,
   "metadata": {},
   "outputs": [],
   "source": [
    "# rata-rata rating anime tiap demografi\n",
    "rating_mean = anime[['demographic', 'rating']].groupby('demographic').mean()"
   ]
  },
  {
   "cell_type": "code",
   "execution_count": 52,
   "metadata": {},
   "outputs": [],
   "source": [
    "# rata-rata popularitas anime tiap demografi\n",
    "popularity_mean = anime[['demographic', 'rated_by']].groupby('demographic').mean()"
   ]
  },
  {
   "cell_type": "code",
   "execution_count": 53,
   "metadata": {},
   "outputs": [],
   "source": [
    "# rata-rata jumlah episode anime tiap demografi\n",
    "eps_mean = anime[['demographic', 'eps']].groupby('demographic').mean()"
   ]
  },
  {
   "attachments": {},
   "cell_type": "markdown",
   "metadata": {},
   "source": [
    "Anime dengan target demografi shounen memiliki rating terbesar, dan jumlah rating terbanyak diantara yang lainnya. Sedangkan anime untuk Kids memiliki jumlah episode terbanyak."
   ]
  },
  {
   "cell_type": "code",
   "execution_count": 54,
   "metadata": {},
   "outputs": [
    {
     "data": {
      "text/plain": [
       "Text(0.5, 1.0, 'Ratings for Kids Anime')"
      ]
     },
     "execution_count": 54,
     "metadata": {},
     "output_type": "execute_result"
    },
    {
     "data": {
      "image/png": "[encoded data removed]",
      "text/plain": [
       "<Figure size 600x2000 with 5 Axes>"
      ]
     },
     "metadata": {},
     "output_type": "display_data"
    }
   ],
   "source": [
    "fig, axes = plt.subplots(nrows=5, figsize=(6, 20))\n",
    "\n",
    "anime[anime['demographic'] == 'Shounen'].hist('rating', ax=axes[0], bins=25, color='blue')\n",
    "axes[0].set_title('Ratings for Shounen Anime')\n",
    "anime[anime['demographic'] == 'Shoujo'].hist('rating', ax=axes[1], bins=25, color='red')\n",
    "axes[1].set_title('Ratings for Shoujo Anime')\n",
    "anime[anime['demographic'] == 'Seinen'].hist('rating', ax=axes[2], bins=25, color='green')\n",
    "axes[2].set_title('atings for Seinen Anime')\n",
    "anime[anime['demographic'] == 'Josei'].hist('rating', ax=axes[3], bins=25, color='purple')\n",
    "axes[3].set_title('Ratings for Josei Anime')\n",
    "anime[anime['demographic'] == 'Kids'].hist('rating', ax=axes[4], bins=25, color='pink')\n",
    "axes[4].set_title('Ratings for Kids Anime')"
   ]
  },
  {
   "attachments": {},
   "cell_type": "markdown",
   "metadata": {},
   "source": [
    "Grafik diatas menunjukan sebaran data rating dari kelima demografi. dapat divisualisasikan nilai tengah dari grafik tersebut"
   ]
  },
  {
   "cell_type": "code",
   "execution_count": 55,
   "metadata": {},
   "outputs": [
    {
     "data": {
      "text/html": [
       "<div>\n",
       "<style scoped>\n",
       "    .dataframe tbody tr th:only-of-type {\n",
       "        vertical-align: middle;\n",
       "    }\n",
       "\n",
       "    .dataframe tbody tr th {\n",
       "        vertical-align: top;\n",
       "    }\n",
       "\n",
       "    .dataframe thead th {\n",
       "        text-align: right;\n",
       "    }\n",
       "</style>\n",
       "<table border=\"1\" class=\"dataframe\">\n",
       "  <thead>\n",
       "    <tr style=\"text-align: right;\">\n",
       "      <th></th>\n",
       "      <th>rating</th>\n",
       "      <th>year</th>\n",
       "      <th>eps</th>\n",
       "      <th>eps_avg_duration_in_min</th>\n",
       "      <th>rated_by</th>\n",
       "    </tr>\n",
       "  </thead>\n",
       "  <tbody>\n",
       "    <tr>\n",
       "      <th>count</th>\n",
       "      <td>1248.000000</td>\n",
       "      <td>1248.0</td>\n",
       "      <td>1248.000000</td>\n",
       "      <td>1248.000000</td>\n",
       "      <td>1248.0</td>\n",
       "    </tr>\n",
       "    <tr>\n",
       "      <th>mean</th>\n",
       "      <td>7.346074</td>\n",
       "      <td>2010.289263</td>\n",
       "      <td>31.060897</td>\n",
       "      <td>22.503205</td>\n",
       "      <td>251625.0</td>\n",
       "    </tr>\n",
       "    <tr>\n",
       "      <th>std</th>\n",
       "      <td>0.690458</td>\n",
       "      <td>9.158087</td>\n",
       "      <td>62.872597</td>\n",
       "      <td>4.643160</td>\n",
       "      <td>417358.419252</td>\n",
       "    </tr>\n",
       "    <tr>\n",
       "      <th>min</th>\n",
       "      <td>2.910000</td>\n",
       "      <td>1963.0</td>\n",
       "      <td>3.000000</td>\n",
       "      <td>1.000000</td>\n",
       "      <td>10000.0</td>\n",
       "    </tr>\n",
       "    <tr>\n",
       "      <th>25%</th>\n",
       "      <td>6.930000</td>\n",
       "      <td>2005.0</td>\n",
       "      <td>12.000000</td>\n",
       "      <td>23.000000</td>\n",
       "      <td>33000.0</td>\n",
       "    </tr>\n",
       "    <tr>\n",
       "      <th>50%</th>\n",
       "      <td>7.350000</td>\n",
       "      <td>2012.0</td>\n",
       "      <td>13.000000</td>\n",
       "      <td>24.000000</td>\n",
       "      <td>99000.0</td>\n",
       "    </tr>\n",
       "    <tr>\n",
       "      <th>75%</th>\n",
       "      <td>7.780000</td>\n",
       "      <td>2017.0</td>\n",
       "      <td>26.000000</td>\n",
       "      <td>24.000000</td>\n",
       "      <td>268000.0</td>\n",
       "    </tr>\n",
       "    <tr>\n",
       "      <th>max</th>\n",
       "      <td>9.130000</td>\n",
       "      <td>2023.0</td>\n",
       "      <td>1787.000000</td>\n",
       "      <td>46.000000</td>\n",
       "      <td>3500000.0</td>\n",
       "    </tr>\n",
       "  </tbody>\n",
       "</table>\n",
       "</div>"
      ],
      "text/plain": [
       "            rating         year          eps  eps_avg_duration_in_min  \\\n",
       "count  1248.000000       1248.0  1248.000000              1248.000000   \n",
       "mean      7.346074  2010.289263    31.060897                22.503205   \n",
       "std       0.690458     9.158087    62.872597                 4.643160   \n",
       "min       2.910000       1963.0     3.000000                 1.000000   \n",
       "25%       6.930000       2005.0    12.000000                23.000000   \n",
       "50%       7.350000       2012.0    13.000000                24.000000   \n",
       "75%       7.780000       2017.0    26.000000                24.000000   \n",
       "max       9.130000       2023.0  1787.000000                46.000000   \n",
       "\n",
       "            rated_by  \n",
       "count         1248.0  \n",
       "mean        251625.0  \n",
       "std    417358.419252  \n",
       "min          10000.0  \n",
       "25%          33000.0  \n",
       "50%          99000.0  \n",
       "75%         268000.0  \n",
       "max        3500000.0  "
      ]
     },
     "execution_count": 55,
     "metadata": {},
     "output_type": "execute_result"
    }
   ],
   "source": [
    "# statistik deskriptif data numerik dari tabel anime\n",
    "anime.describe()"
   ]
  },
  {
   "attachments": {},
   "cell_type": "markdown",
   "metadata": {},
   "source": [
    "Diatas adalah statistik deskriptif dari keseluruhan data anime."
   ]
  },
  {
   "attachments": {},
   "cell_type": "markdown",
   "metadata": {},
   "source": [
    "## 6. Uji Hipotesis perbandingan rata-rata rating untuk setiap demografi dengan ANOVA"
   ]
  },
  {
   "attachments": {},
   "cell_type": "markdown",
   "metadata": {},
   "source": [
    "Rata-rata rating antara tiap demografi akan dibandingkan menggunakan uji one-way ANOVA (Analysis of Variance). Hipotesis nol (H0) dalam kasus ini adalah rata-rata rating sama pada semua demografi, dan hipotesis alternatif (H1) adalah bahwa setidaknya salah satu rata-rata berbeda."
   ]
  },
  {
   "cell_type": "code",
   "execution_count": 56,
   "metadata": {},
   "outputs": [
    {
     "name": "stdout",
     "output_type": "stream",
     "text": [
      "Reject H0: At least one rating is significantly different.\n",
      "F-statistic: 4.66\n",
      "P-value: 0.0010\n",
      "Demography: Shounen, Seinen, Shoujo, Josei, Kids\n"
     ]
    }
   ],
   "source": [
    "# Nilai signivicance level\n",
    "alpha = 0.05\n",
    "\n",
    "# Filter data yang ingin diuji\n",
    "demografi = ['Shounen', 'Seinen', 'Shoujo', 'Josei', 'Kids']\n",
    "data_anova = [anime[anime['demographic'] == i]['rating'] for i in demografi]\n",
    "\n",
    "# Uji one-way ANOVA\n",
    "f_statistic, p_value = stats.f_oneway(*data_anova)\n",
    "\n",
    "# hipothesis 0 (H0): mean pada kelima demografi sama\n",
    "# hipotesis alternatif (H1): setidaknya salah satu mean berbeda\n",
    "\n",
    "# Periksa p-value apakah lebih dari alpha\n",
    "if p_value < alpha:\n",
    "    print(\"Reject H0: At least one rating is significantly different.\")\n",
    "else:\n",
    "    print(\"Fail to reject H0: There's not enough proof that the rating is significantly different.\")\n",
    "\n",
    "# Tampilkan nilai F-statistic dan p-value\n",
    "print(f\"F-statistic: {f_statistic:.2f}\")\n",
    "print(f\"P-value: {p_value:.4f}\")\n",
    "print(f\"Demography: {', '.join(demografi)}\")"
   ]
  },
  {
   "attachments": {},
   "cell_type": "markdown",
   "metadata": {},
   "source": [
    "Hasil menunjukan nilai `p-value` kurang dari `0.05` yang berarti kita dapat menolak Hipotesis null. Maka dapat disimpulkan setidaknya ada salah satu rating yang berbeda secara signifikan dari yang lain."
   ]
  },
  {
   "attachments": {},
   "cell_type": "markdown",
   "metadata": {},
   "source": [
    "Cara termudah untuk memvisualisasikan hasil dari ANOVA adalah dengan menggunakan grafik sederhana yang menunjukkan semua titik individu. Pada kasus ini dapat digunakan violin plot."
   ]
  },
  {
   "cell_type": "code",
   "execution_count": 57,
   "metadata": {},
   "outputs": [
    {
     "data": {
      "image/png": "[encoded data removed]",
      "text/plain": [
       "<Figure size 1000x600 with 1 Axes>"
      ]
     },
     "metadata": {},
     "output_type": "display_data"
    }
   ],
   "source": [
    "# Create a violin plot to visualize the ratings by demographic\n",
    "plt.figure(figsize=(10, 6))\n",
    "sns.violinplot(x='demographic', y='rating', data=anime)\n",
    "plt.title('Violin Plot of Ratings by Demographic')\n",
    "plt.xlabel('Demographic')\n",
    "plt.ylabel('Rating')\n",
    "plt.show()"
   ]
  },
  {
   "attachments": {},
   "cell_type": "markdown",
   "metadata": {},
   "source": [
    "Dari violin plot dapat dilihat bahwa data rating dari demografi josei dan kids berbeda dari yang lain."
   ]
  },
  {
   "attachments": {},
   "cell_type": "markdown",
   "metadata": {},
   "source": [
    "---"
   ]
  },
  {
   "attachments": {},
   "cell_type": "markdown",
   "metadata": {},
   "source": [
    "# 6. Pengambilan Kesimpulan"
   ]
  },
  {
   "attachments": {},
   "cell_type": "markdown",
   "metadata": {},
   "source": [
    "Berdasarkan analisis data anime yang telah dilakukan, dapat diambil beberapa kesimpulan:\n",
    "\n",
    "- Popularitas anime terus meningkat sepanjang tahun, sehingga anime memiliki potensi untuk meningkatkan jumlah subscriber di platform streaming Marinobar.\n",
    "\n",
    "- Berdasarkan analisis EDA, ditemukan bahwa anime dengan demografi \"Shounen\" memiliki jumlah rating yang cukup tinggi, sedangkan demografi \"Josei\" memiliki jumlah rating yang relatif lebih rendah.\n",
    "\n",
    "- Ditemukan juga studio-studio yang paling banyak menghasilkan anime populer dan berkualitas. Informasi ini dapat digunakan untuk mengantisipasi anime dari studio tersebut untuk ditayangkan dalam platform marinobar.\n",
    "\n",
    "- Tema yang paling populer adalah `School`, `Shounen`, `Historical`, `Mythology`, dan `Super Power`. Tag yang paling populer adalah `comedy`, `action`, `romance`, `darama`, dan `fantasy`. tema dan tag tersebut banyak dikonsumsi oleh laki-laki muda (shounen).\n",
    "\n",
    "- Anime dengan target demografi shounen memiliki rating terbesar, dan jumlah rating terbanyak diantara yang lainnya. Sedangkan anime untuk Kids memiliki jumlah episode terbanyak.\n",
    "\n",
    "- Hasil uji one-way ANOVA menunjukkan bahwa terdapat perbedaan yang signifikan dalam rata-rata rating antara demografi anime \"Shounen\", \"Seinen\", \"Shoujo\", \"Josei\", dan \"Kids\". Hal ini dapat menjadi informasi penting dalam memilih anime apa yang cocok untuk ditayangkan di platform Marinobar.\n",
    "\n",
    "- Dalam visualisasi menggunakan violin plot, dapat dilihat distribusi rating anime berdasarkan demografi dengan lebih detail. Violin plot menunjukkan keragaman dalam distribusi rating antara demografi anime, dengan lebar violin yang mengindikasikan densitas rating pada nilai-nilai tertentu.\n",
    "\n",
    "Berdasarkan kesimpulan tersebut, sebagai Data Analyst, dapat direkomendasikan untuk lebih fokus dalam menayangkan anime dengan demografi \"Shounen\" yang memiliki jumlah rating yang cukup tinggi, serta mempertimbangkan untuk meningkatkan konten anime dengan demografi \"Shoujo\" yang juga memiliki anime dengan rating tinggi. Selain itu, lihat juga studio produksi anime yang berpotensi menghasilkan anime yang populer, diantaranya `Bones`, `Madhouse`, `A-1 Pictures`, dan `Toei Animation`."
   ]
  },
  {
   "attachments": {},
   "cell_type": "markdown",
   "metadata": {},
   "source": [
    "---"
   ]
  }
 ],
 "metadata": {
  "kernelspec": {
   "display_name": "base",
   "language": "python",
   "name": "python3"
  },
  "language_info": {
   "codemirror_mode": {
    "name": "ipython",
    "version": 3
   },
   "file_extension": ".py",
   "mimetype": "text/x-python",
   "name": "python",
   "nbconvert_exporter": "python",
   "pygments_lexer": "ipython3",
   "version": "3.10.9"
  },
  "orig_nbformat": 4
 },
 "nbformat": 4,
 "nbformat_minor": 2
}
